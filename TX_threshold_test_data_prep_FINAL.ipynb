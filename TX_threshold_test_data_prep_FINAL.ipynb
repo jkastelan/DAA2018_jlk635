{
 "cells": [
  {
   "cell_type": "code",
   "execution_count": 32,
   "metadata": {},
   "outputs": [
    {
     "name": "stdout",
     "output_type": "stream",
     "text": [
      "Populating the interactive namespace from numpy and matplotlib\n"
     ]
    }
   ],
   "source": [
    "import pylab as pl\n",
    "import pandas as pd\n",
    "import numpy as np\n",
    "#imports downloader\n",
    "import scipy.stats\n",
    "from scipy.stats import rankdata\n",
    "\n",
    "from __future__ import print_function, division\n",
    "\n",
    "try:\n",
    "    import urllib2 as urllib\n",
    "except ImportError:\n",
    "    import urllib.request as urllib\n",
    "\n",
    "import statsmodels.api as sm\n",
    "import statsmodels.formula.api as smf\n",
    "\n",
    "\n",
    "%pylab inline\n",
    "import json\n",
    "import os, shutil\n",
    "import sys\n",
    "import requests"
   ]
  },
  {
   "cell_type": "code",
   "execution_count": 2,
   "metadata": {},
   "outputs": [
    {
     "name": "stderr",
     "output_type": "stream",
     "text": [
      "C:\\Users\\Jonathan\\Anaconda3\\lib\\site-packages\\IPython\\core\\interactiveshell.py:2728: DtypeWarning: Columns (7,16,19,24) have mixed types. Specify dtype option on import or set low_memory=False.\n",
      "  interactivity=interactivity, compiler=compiler, result=result)\n"
     ]
    }
   ],
   "source": [
    "#Read in data\n",
    "TXdata = pd.read_csv(\"https://stacks.stanford.edu/file/druid:py883nd2578/TX-clean.csv.gz\", index_col = None, compression = 'gzip')"
   ]
  },
  {
   "cell_type": "code",
   "execution_count": 3,
   "metadata": {},
   "outputs": [],
   "source": [
    "## Drop columns not needed\n",
    "\n",
    "TXdataTrim = TXdata.drop([u'state', u'county_fips', u'fine_grained_location', \n",
    "       u'police_department', u'driver_gender', u'driver_age_raw',\n",
    "       u'driver_age', u'violation_raw',\n",
    "       u'violation', u'lat', u'lon',\n",
    "       u'officer_id'], axis=1)"
   ]
  },
  {
   "cell_type": "code",
   "execution_count": 4,
   "metadata": {},
   "outputs": [],
   "source": [
    "#Group data by county, driver race and whether or not a search was conducted\n",
    "\n",
    "TXcrs = TXdataTrim.groupby(['county_name', 'driver_race','search_conducted']).count()"
   ]
  },
  {
   "cell_type": "code",
   "execution_count": 5,
   "metadata": {},
   "outputs": [],
   "source": [
    "## Drop columns not needed\n",
    "\n",
    "TXcrs.drop([u'stop_date', u'stop_time', u'location_raw', u'driver_race_raw',\n",
    "       u'search_type_raw', u'search_type', u'contraband_found',\n",
    "       u'stop_outcome', u'is_arrested', u'driver_race_original'],axis=1, inplace=True)"
   ]
  },
  {
   "cell_type": "code",
   "execution_count": 6,
   "metadata": {},
   "outputs": [],
   "source": [
    "#For ease of debugging, make copy of initial dataset\n",
    "\n",
    "TXsearch = TXcrs"
   ]
  },
  {
   "cell_type": "code",
   "execution_count": 7,
   "metadata": {},
   "outputs": [],
   "source": [
    "#Dataframe for stops where search was conducted (for outcome test)\n",
    "\n",
    "TXcontraband = TXdataTrim[TXdataTrim.search_conducted == True] \n",
    "TXcontraband = TXcontraband.groupby(['county_name', 'driver_race','contraband_found']).count()\n",
    "TXcontraband.drop([u'stop_date', u'stop_time', u'location_raw', u'driver_race_raw',\n",
    "       u'search_type_raw', u'search_type', u'search_conducted',\n",
    "       u'stop_outcome', u'is_arrested', u'driver_race_original'],axis=1, inplace=True)"
   ]
  },
  {
   "cell_type": "code",
   "execution_count": 8,
   "metadata": {},
   "outputs": [
    {
     "data": {
      "text/html": [
       "<div>\n",
       "<style scoped>\n",
       "    .dataframe tbody tr th:only-of-type {\n",
       "        vertical-align: middle;\n",
       "    }\n",
       "\n",
       "    .dataframe tbody tr th {\n",
       "        vertical-align: top;\n",
       "    }\n",
       "\n",
       "    .dataframe thead th {\n",
       "        text-align: right;\n",
       "    }\n",
       "</style>\n",
       "<table border=\"1\" class=\"dataframe\">\n",
       "  <thead>\n",
       "    <tr style=\"text-align: right;\">\n",
       "      <th></th>\n",
       "      <th></th>\n",
       "      <th></th>\n",
       "      <th>id</th>\n",
       "    </tr>\n",
       "    <tr>\n",
       "      <th>county_name</th>\n",
       "      <th>driver_race</th>\n",
       "      <th>contraband_found</th>\n",
       "      <th></th>\n",
       "    </tr>\n",
       "  </thead>\n",
       "  <tbody>\n",
       "    <tr>\n",
       "      <th rowspan=\"7\" valign=\"top\">Anderson County</th>\n",
       "      <th rowspan=\"2\" valign=\"top\">Black</th>\n",
       "      <th>False</th>\n",
       "      <td>210</td>\n",
       "    </tr>\n",
       "    <tr>\n",
       "      <th>True</th>\n",
       "      <td>136</td>\n",
       "    </tr>\n",
       "    <tr>\n",
       "      <th rowspan=\"2\" valign=\"top\">Hispanic</th>\n",
       "      <th>False</th>\n",
       "      <td>152</td>\n",
       "    </tr>\n",
       "    <tr>\n",
       "      <th>True</th>\n",
       "      <td>77</td>\n",
       "    </tr>\n",
       "    <tr>\n",
       "      <th>Other</th>\n",
       "      <th>False</th>\n",
       "      <td>2</td>\n",
       "    </tr>\n",
       "    <tr>\n",
       "      <th rowspan=\"2\" valign=\"top\">White</th>\n",
       "      <th>False</th>\n",
       "      <td>737</td>\n",
       "    </tr>\n",
       "    <tr>\n",
       "      <th>True</th>\n",
       "      <td>405</td>\n",
       "    </tr>\n",
       "    <tr>\n",
       "      <th rowspan=\"3\" valign=\"top\">Andrews County</th>\n",
       "      <th rowspan=\"2\" valign=\"top\">Asian</th>\n",
       "      <th>False</th>\n",
       "      <td>1</td>\n",
       "    </tr>\n",
       "    <tr>\n",
       "      <th>True</th>\n",
       "      <td>1</td>\n",
       "    </tr>\n",
       "    <tr>\n",
       "      <th>Black</th>\n",
       "      <th>False</th>\n",
       "      <td>27</td>\n",
       "    </tr>\n",
       "  </tbody>\n",
       "</table>\n",
       "</div>"
      ],
      "text/plain": [
       "                                               id\n",
       "county_name     driver_race contraband_found     \n",
       "Anderson County Black       False             210\n",
       "                            True              136\n",
       "                Hispanic    False             152\n",
       "                            True               77\n",
       "                Other       False               2\n",
       "                White       False             737\n",
       "                            True              405\n",
       "Andrews County  Asian       False               1\n",
       "                            True                1\n",
       "                Black       False              27"
      ]
     },
     "execution_count": 8,
     "metadata": {},
     "output_type": "execute_result"
    }
   ],
   "source": [
    "TXcontraband.head(10)"
   ]
  },
  {
   "cell_type": "code",
   "execution_count": 9,
   "metadata": {},
   "outputs": [
    {
     "data": {
      "text/html": [
       "<div>\n",
       "<style scoped>\n",
       "    .dataframe tbody tr th:only-of-type {\n",
       "        vertical-align: middle;\n",
       "    }\n",
       "\n",
       "    .dataframe tbody tr th {\n",
       "        vertical-align: top;\n",
       "    }\n",
       "\n",
       "    .dataframe thead th {\n",
       "        text-align: right;\n",
       "    }\n",
       "</style>\n",
       "<table border=\"1\" class=\"dataframe\">\n",
       "  <thead>\n",
       "    <tr style=\"text-align: right;\">\n",
       "      <th></th>\n",
       "      <th></th>\n",
       "      <th></th>\n",
       "      <th>id</th>\n",
       "    </tr>\n",
       "    <tr>\n",
       "      <th>county_name</th>\n",
       "      <th>driver_race</th>\n",
       "      <th>search_conducted</th>\n",
       "      <th></th>\n",
       "    </tr>\n",
       "  </thead>\n",
       "  <tbody>\n",
       "    <tr>\n",
       "      <th rowspan=\"9\" valign=\"top\">Anderson County</th>\n",
       "      <th>Asian</th>\n",
       "      <th>False</th>\n",
       "      <td>638</td>\n",
       "    </tr>\n",
       "    <tr>\n",
       "      <th rowspan=\"2\" valign=\"top\">Black</th>\n",
       "      <th>False</th>\n",
       "      <td>18504</td>\n",
       "    </tr>\n",
       "    <tr>\n",
       "      <th>True</th>\n",
       "      <td>346</td>\n",
       "    </tr>\n",
       "    <tr>\n",
       "      <th rowspan=\"2\" valign=\"top\">Hispanic</th>\n",
       "      <th>False</th>\n",
       "      <td>10699</td>\n",
       "    </tr>\n",
       "    <tr>\n",
       "      <th>True</th>\n",
       "      <td>229</td>\n",
       "    </tr>\n",
       "    <tr>\n",
       "      <th rowspan=\"2\" valign=\"top\">Other</th>\n",
       "      <th>False</th>\n",
       "      <td>138</td>\n",
       "    </tr>\n",
       "    <tr>\n",
       "      <th>True</th>\n",
       "      <td>2</td>\n",
       "    </tr>\n",
       "    <tr>\n",
       "      <th rowspan=\"2\" valign=\"top\">White</th>\n",
       "      <th>False</th>\n",
       "      <td>87781</td>\n",
       "    </tr>\n",
       "    <tr>\n",
       "      <th>True</th>\n",
       "      <td>1142</td>\n",
       "    </tr>\n",
       "    <tr>\n",
       "      <th>Andrews County</th>\n",
       "      <th>Asian</th>\n",
       "      <th>False</th>\n",
       "      <td>119</td>\n",
       "    </tr>\n",
       "  </tbody>\n",
       "</table>\n",
       "</div>"
      ],
      "text/plain": [
       "                                                 id\n",
       "county_name     driver_race search_conducted       \n",
       "Anderson County Asian       False               638\n",
       "                Black       False             18504\n",
       "                            True                346\n",
       "                Hispanic    False             10699\n",
       "                            True                229\n",
       "                Other       False               138\n",
       "                            True                  2\n",
       "                White       False             87781\n",
       "                            True               1142\n",
       "Andrews County  Asian       False               119"
      ]
     },
     "execution_count": 9,
     "metadata": {},
     "output_type": "execute_result"
    }
   ],
   "source": [
    "TXsearch.head(10)"
   ]
  },
  {
   "cell_type": "code",
   "execution_count": 10,
   "metadata": {},
   "outputs": [
    {
     "data": {
      "text/plain": [
       "Index(['Anderson County', 'Andrews County', 'Angelina County',\n",
       "       'Aransas County', 'Archer County', 'Armstrong County',\n",
       "       'Atascosa County', 'Austin County', 'Bailey County', 'Bandera County',\n",
       "       ...\n",
       "       'Willacy County', 'Williamson County', 'Wilson County',\n",
       "       'Winkler County', 'Wise County', 'Wood County', 'Yoakum County',\n",
       "       'Young County', 'Zapata County', 'Zavala County'],\n",
       "      dtype='object', name='county_name', length=254)"
      ]
     },
     "execution_count": 10,
     "metadata": {},
     "output_type": "execute_result"
    }
   ],
   "source": [
    "#List of counties to iterator through\n",
    "\n",
    "counties = TXsearch.index.get_level_values(0).unique()\n",
    "counties"
   ]
  },
  {
   "cell_type": "code",
   "execution_count": 11,
   "metadata": {},
   "outputs": [
    {
     "data": {
      "text/plain": [
       "Index(['Asian', 'Black', 'Hispanic', 'Other', 'White'], dtype='object', name='driver_race')"
      ]
     },
     "execution_count": 11,
     "metadata": {},
     "output_type": "execute_result"
    }
   ],
   "source": [
    "#List of driver_race to iterator through\n",
    "\n",
    "driverRace = TXsearch.index.get_level_values(1).unique()\n",
    "driverRace"
   ]
  },
  {
   "cell_type": "code",
   "execution_count": 14,
   "metadata": {},
   "outputs": [],
   "source": [
    "#police_department    driver_race   num_stops   num_searches   num_hits   search_rate   hit_rate\n"
   ]
  },
  {
   "cell_type": "code",
   "execution_count": 15,
   "metadata": {},
   "outputs": [
    {
     "data": {
      "text/html": [
       "<div>\n",
       "<style scoped>\n",
       "    .dataframe tbody tr th:only-of-type {\n",
       "        vertical-align: middle;\n",
       "    }\n",
       "\n",
       "    .dataframe tbody tr th {\n",
       "        vertical-align: top;\n",
       "    }\n",
       "\n",
       "    .dataframe thead th {\n",
       "        text-align: right;\n",
       "    }\n",
       "</style>\n",
       "<table border=\"1\" class=\"dataframe\">\n",
       "  <thead>\n",
       "    <tr style=\"text-align: right;\">\n",
       "      <th></th>\n",
       "      <th>id</th>\n",
       "    </tr>\n",
       "    <tr>\n",
       "      <th>search_conducted</th>\n",
       "      <th></th>\n",
       "    </tr>\n",
       "  </thead>\n",
       "  <tbody>\n",
       "    <tr>\n",
       "      <th>False</th>\n",
       "      <td>638</td>\n",
       "    </tr>\n",
       "  </tbody>\n",
       "</table>\n",
       "</div>"
      ],
      "text/plain": [
       "                   id\n",
       "search_conducted     \n",
       "False             638"
      ]
     },
     "execution_count": 15,
     "metadata": {},
     "output_type": "execute_result"
    }
   ],
   "source": [
    "TXsearch.loc['Anderson County'].loc['Asian']"
   ]
  },
  {
   "cell_type": "code",
   "execution_count": 16,
   "metadata": {},
   "outputs": [
    {
     "data": {
      "text/plain": [
       "id    18850\n",
       "dtype: int64"
      ]
     },
     "execution_count": 16,
     "metadata": {},
     "output_type": "execute_result"
    }
   ],
   "source": [
    "TXsearch.loc['Anderson County'].loc['Black'].sum()"
   ]
  },
  {
   "cell_type": "code",
   "execution_count": 17,
   "metadata": {},
   "outputs": [
    {
     "name": "stdout",
     "output_type": "stream",
     "text": [
      "Empty DataFrame\n",
      "Columns: [police_department, driver_race, num_stops, num_searches, num_hits]\n",
      "Index: []\n"
     ]
    }
   ],
   "source": [
    "# Set columns of dataframe (and check the head has your column heading, but empty)\n",
    "\n",
    "columns=['police_department', 'driver_race', 'num_stops', 'num_searches', 'num_hits']\n",
    "dfTXstops = pd.DataFrame(columns=columns)\n",
    "\n",
    "print(dfTXstops.head())\n"
   ]
  },
  {
   "cell_type": "code",
   "execution_count": null,
   "metadata": {},
   "outputs": [],
   "source": []
  },
  {
   "cell_type": "code",
   "execution_count": 18,
   "metadata": {},
   "outputs": [],
   "source": [
    "#Define function to return stops\n",
    "def get_stops(cty, rce):\n",
    "    if len(TXsearch[(TXsearch.index.get_level_values(0) == cty) & (TXsearch.index.get_level_values(1) == rce) & \\\n",
    "                            (TXsearch.index.get_level_values(2) == True)]['id']) < 1:\n",
    "        return NaN\n",
    "    else:\n",
    "        return TXsearch.loc[cty].loc[rce].sum()[0]"
   ]
  },
  {
   "cell_type": "code",
   "execution_count": 19,
   "metadata": {},
   "outputs": [],
   "source": [
    "#Define function to return searches\n",
    "def get_searches(cty, rce):\n",
    "    if len(TXsearch[(TXsearch.index.get_level_values(0) == cty) & (TXsearch.index.get_level_values(1) == rce) & \\\n",
    "                            (TXsearch.index.get_level_values(2) == True)]['id']) < 1:\n",
    "        return NaN\n",
    "    else:\n",
    "        return TXsearch.loc[cty].loc[rce].loc[True][0]"
   ]
  },
  {
   "cell_type": "code",
   "execution_count": 20,
   "metadata": {},
   "outputs": [],
   "source": [
    "#Define function to return hits\n",
    "def get_hits(cty, rce):\n",
    "    if len(TXcontraband[(TXcontraband.index.get_level_values(0) == cty) & (TXcontraband.index.get_level_values(1) == rce) & \\\n",
    "                            (TXcontraband.index.get_level_values(2) == True)]['id']) < 1:\n",
    "        return NaN\n",
    "    else:\n",
    "        return TXcontraband.loc[cty].loc[rce].loc[True][0]"
   ]
  },
  {
   "cell_type": "code",
   "execution_count": 21,
   "metadata": {},
   "outputs": [
    {
     "data": {
      "text/plain": [
       "id    18850\n",
       "dtype: int64"
      ]
     },
     "execution_count": 21,
     "metadata": {},
     "output_type": "execute_result"
    }
   ],
   "source": [
    "TXsearch.loc['Anderson County'].loc['Black'].sum()"
   ]
  },
  {
   "cell_type": "code",
   "execution_count": 23,
   "metadata": {},
   "outputs": [],
   "source": [
    "\n",
    "#Build the dataframe using for loop (rows are: i)\n",
    "\n",
    "i=0\n",
    "\n",
    "for cty in counties:\n",
    "    for rce in driverRace:\n",
    "     \n",
    "        num_stops = get_stops(cty, rce)   \n",
    "        num_searches = get_searches(cty, rce)   \n",
    "        num_hits =  get_hits(cty, rce)\n",
    "    \n",
    "        dfTXstops.loc[i]= [cty, rce, num_stops, num_searches, num_hits]\n",
    "\n",
    "        i = i + 1\n"
   ]
  },
  {
   "cell_type": "code",
   "execution_count": 24,
   "metadata": {},
   "outputs": [
    {
     "data": {
      "text/html": [
       "<div>\n",
       "<style scoped>\n",
       "    .dataframe tbody tr th:only-of-type {\n",
       "        vertical-align: middle;\n",
       "    }\n",
       "\n",
       "    .dataframe tbody tr th {\n",
       "        vertical-align: top;\n",
       "    }\n",
       "\n",
       "    .dataframe thead th {\n",
       "        text-align: right;\n",
       "    }\n",
       "</style>\n",
       "<table border=\"1\" class=\"dataframe\">\n",
       "  <thead>\n",
       "    <tr style=\"text-align: right;\">\n",
       "      <th></th>\n",
       "      <th>police_department</th>\n",
       "      <th>driver_race</th>\n",
       "      <th>num_stops</th>\n",
       "      <th>num_searches</th>\n",
       "      <th>num_hits</th>\n",
       "    </tr>\n",
       "  </thead>\n",
       "  <tbody>\n",
       "    <tr>\n",
       "      <th>0</th>\n",
       "      <td>Anderson County</td>\n",
       "      <td>Asian</td>\n",
       "      <td>NaN</td>\n",
       "      <td>NaN</td>\n",
       "      <td>NaN</td>\n",
       "    </tr>\n",
       "    <tr>\n",
       "      <th>1</th>\n",
       "      <td>Anderson County</td>\n",
       "      <td>Black</td>\n",
       "      <td>18850</td>\n",
       "      <td>346</td>\n",
       "      <td>136</td>\n",
       "    </tr>\n",
       "    <tr>\n",
       "      <th>2</th>\n",
       "      <td>Anderson County</td>\n",
       "      <td>Hispanic</td>\n",
       "      <td>10928</td>\n",
       "      <td>229</td>\n",
       "      <td>77</td>\n",
       "    </tr>\n",
       "    <tr>\n",
       "      <th>3</th>\n",
       "      <td>Anderson County</td>\n",
       "      <td>Other</td>\n",
       "      <td>140</td>\n",
       "      <td>2</td>\n",
       "      <td>NaN</td>\n",
       "    </tr>\n",
       "    <tr>\n",
       "      <th>4</th>\n",
       "      <td>Anderson County</td>\n",
       "      <td>White</td>\n",
       "      <td>88923</td>\n",
       "      <td>1142</td>\n",
       "      <td>405</td>\n",
       "    </tr>\n",
       "  </tbody>\n",
       "</table>\n",
       "</div>"
      ],
      "text/plain": [
       "  police_department driver_race num_stops num_searches num_hits\n",
       "0   Anderson County       Asian       NaN          NaN      NaN\n",
       "1   Anderson County       Black     18850          346      136\n",
       "2   Anderson County    Hispanic     10928          229       77\n",
       "3   Anderson County       Other       140            2      NaN\n",
       "4   Anderson County       White     88923         1142      405"
      ]
     },
     "execution_count": 24,
     "metadata": {},
     "output_type": "execute_result"
    }
   ],
   "source": [
    "dfTXstops.head()"
   ]
  },
  {
   "cell_type": "code",
   "execution_count": 25,
   "metadata": {},
   "outputs": [],
   "source": [
    "cleanTXstops = dfTXstops.dropna()"
   ]
  },
  {
   "cell_type": "code",
   "execution_count": 26,
   "metadata": {},
   "outputs": [
    {
     "data": {
      "text/html": [
       "<div>\n",
       "<style scoped>\n",
       "    .dataframe tbody tr th:only-of-type {\n",
       "        vertical-align: middle;\n",
       "    }\n",
       "\n",
       "    .dataframe tbody tr th {\n",
       "        vertical-align: top;\n",
       "    }\n",
       "\n",
       "    .dataframe thead th {\n",
       "        text-align: right;\n",
       "    }\n",
       "</style>\n",
       "<table border=\"1\" class=\"dataframe\">\n",
       "  <thead>\n",
       "    <tr style=\"text-align: right;\">\n",
       "      <th></th>\n",
       "      <th>police_department</th>\n",
       "      <th>driver_race</th>\n",
       "      <th>num_stops</th>\n",
       "      <th>num_searches</th>\n",
       "      <th>num_hits</th>\n",
       "    </tr>\n",
       "  </thead>\n",
       "  <tbody>\n",
       "    <tr>\n",
       "      <th>1</th>\n",
       "      <td>Anderson County</td>\n",
       "      <td>Black</td>\n",
       "      <td>18850</td>\n",
       "      <td>346</td>\n",
       "      <td>136</td>\n",
       "    </tr>\n",
       "    <tr>\n",
       "      <th>2</th>\n",
       "      <td>Anderson County</td>\n",
       "      <td>Hispanic</td>\n",
       "      <td>10928</td>\n",
       "      <td>229</td>\n",
       "      <td>77</td>\n",
       "    </tr>\n",
       "    <tr>\n",
       "      <th>4</th>\n",
       "      <td>Anderson County</td>\n",
       "      <td>White</td>\n",
       "      <td>88923</td>\n",
       "      <td>1142</td>\n",
       "      <td>405</td>\n",
       "    </tr>\n",
       "    <tr>\n",
       "      <th>5</th>\n",
       "      <td>Andrews County</td>\n",
       "      <td>Asian</td>\n",
       "      <td>121</td>\n",
       "      <td>2</td>\n",
       "      <td>1</td>\n",
       "    </tr>\n",
       "    <tr>\n",
       "      <th>6</th>\n",
       "      <td>Andrews County</td>\n",
       "      <td>Black</td>\n",
       "      <td>1046</td>\n",
       "      <td>37</td>\n",
       "      <td>10</td>\n",
       "    </tr>\n",
       "    <tr>\n",
       "      <th>7</th>\n",
       "      <td>Andrews County</td>\n",
       "      <td>Hispanic</td>\n",
       "      <td>12331</td>\n",
       "      <td>252</td>\n",
       "      <td>99</td>\n",
       "    </tr>\n",
       "    <tr>\n",
       "      <th>8</th>\n",
       "      <td>Andrews County</td>\n",
       "      <td>Other</td>\n",
       "      <td>47</td>\n",
       "      <td>2</td>\n",
       "      <td>1</td>\n",
       "    </tr>\n",
       "    <tr>\n",
       "      <th>9</th>\n",
       "      <td>Andrews County</td>\n",
       "      <td>White</td>\n",
       "      <td>21576</td>\n",
       "      <td>282</td>\n",
       "      <td>118</td>\n",
       "    </tr>\n",
       "    <tr>\n",
       "      <th>10</th>\n",
       "      <td>Angelina County</td>\n",
       "      <td>Asian</td>\n",
       "      <td>671</td>\n",
       "      <td>3</td>\n",
       "      <td>2</td>\n",
       "    </tr>\n",
       "    <tr>\n",
       "      <th>11</th>\n",
       "      <td>Angelina County</td>\n",
       "      <td>Black</td>\n",
       "      <td>19616</td>\n",
       "      <td>395</td>\n",
       "      <td>166</td>\n",
       "    </tr>\n",
       "    <tr>\n",
       "      <th>12</th>\n",
       "      <td>Angelina County</td>\n",
       "      <td>Hispanic</td>\n",
       "      <td>15589</td>\n",
       "      <td>320</td>\n",
       "      <td>97</td>\n",
       "    </tr>\n",
       "    <tr>\n",
       "      <th>13</th>\n",
       "      <td>Angelina County</td>\n",
       "      <td>Other</td>\n",
       "      <td>203</td>\n",
       "      <td>3</td>\n",
       "      <td>2</td>\n",
       "    </tr>\n",
       "    <tr>\n",
       "      <th>14</th>\n",
       "      <td>Angelina County</td>\n",
       "      <td>White</td>\n",
       "      <td>89749</td>\n",
       "      <td>1215</td>\n",
       "      <td>468</td>\n",
       "    </tr>\n",
       "    <tr>\n",
       "      <th>16</th>\n",
       "      <td>Aransas County</td>\n",
       "      <td>Black</td>\n",
       "      <td>956</td>\n",
       "      <td>38</td>\n",
       "      <td>7</td>\n",
       "    </tr>\n",
       "    <tr>\n",
       "      <th>17</th>\n",
       "      <td>Aransas County</td>\n",
       "      <td>Hispanic</td>\n",
       "      <td>7205</td>\n",
       "      <td>204</td>\n",
       "      <td>42</td>\n",
       "    </tr>\n",
       "    <tr>\n",
       "      <th>19</th>\n",
       "      <td>Aransas County</td>\n",
       "      <td>White</td>\n",
       "      <td>26038</td>\n",
       "      <td>586</td>\n",
       "      <td>84</td>\n",
       "    </tr>\n",
       "    <tr>\n",
       "      <th>21</th>\n",
       "      <td>Archer County</td>\n",
       "      <td>Black</td>\n",
       "      <td>1674</td>\n",
       "      <td>85</td>\n",
       "      <td>36</td>\n",
       "    </tr>\n",
       "    <tr>\n",
       "      <th>22</th>\n",
       "      <td>Archer County</td>\n",
       "      <td>Hispanic</td>\n",
       "      <td>4953</td>\n",
       "      <td>201</td>\n",
       "      <td>65</td>\n",
       "    </tr>\n",
       "    <tr>\n",
       "      <th>24</th>\n",
       "      <td>Archer County</td>\n",
       "      <td>White</td>\n",
       "      <td>42624</td>\n",
       "      <td>894</td>\n",
       "      <td>378</td>\n",
       "    </tr>\n",
       "    <tr>\n",
       "      <th>25</th>\n",
       "      <td>Armstrong County</td>\n",
       "      <td>Asian</td>\n",
       "      <td>835</td>\n",
       "      <td>10</td>\n",
       "      <td>2</td>\n",
       "    </tr>\n",
       "  </tbody>\n",
       "</table>\n",
       "</div>"
      ],
      "text/plain": [
       "   police_department driver_race num_stops num_searches num_hits\n",
       "1    Anderson County       Black     18850          346      136\n",
       "2    Anderson County    Hispanic     10928          229       77\n",
       "4    Anderson County       White     88923         1142      405\n",
       "5     Andrews County       Asian       121            2        1\n",
       "6     Andrews County       Black      1046           37       10\n",
       "7     Andrews County    Hispanic     12331          252       99\n",
       "8     Andrews County       Other        47            2        1\n",
       "9     Andrews County       White     21576          282      118\n",
       "10   Angelina County       Asian       671            3        2\n",
       "11   Angelina County       Black     19616          395      166\n",
       "12   Angelina County    Hispanic     15589          320       97\n",
       "13   Angelina County       Other       203            3        2\n",
       "14   Angelina County       White     89749         1215      468\n",
       "16    Aransas County       Black       956           38        7\n",
       "17    Aransas County    Hispanic      7205          204       42\n",
       "19    Aransas County       White     26038          586       84\n",
       "21     Archer County       Black      1674           85       36\n",
       "22     Archer County    Hispanic      4953          201       65\n",
       "24     Archer County       White     42624          894      378\n",
       "25  Armstrong County       Asian       835           10        2"
      ]
     },
     "execution_count": 26,
     "metadata": {},
     "output_type": "execute_result"
    }
   ],
   "source": [
    "cleanTXstops.head(20)"
   ]
  },
  {
   "cell_type": "code",
   "execution_count": 51,
   "metadata": {},
   "outputs": [
    {
     "data": {
      "text/html": [
       "<div>\n",
       "<style scoped>\n",
       "    .dataframe tbody tr th:only-of-type {\n",
       "        vertical-align: middle;\n",
       "    }\n",
       "\n",
       "    .dataframe tbody tr th {\n",
       "        vertical-align: top;\n",
       "    }\n",
       "\n",
       "    .dataframe thead th {\n",
       "        text-align: right;\n",
       "    }\n",
       "</style>\n",
       "<table border=\"1\" class=\"dataframe\">\n",
       "  <thead>\n",
       "    <tr style=\"text-align: right;\">\n",
       "      <th></th>\n",
       "      <th>police_department</th>\n",
       "      <th>num_stops</th>\n",
       "    </tr>\n",
       "  </thead>\n",
       "  <tbody>\n",
       "    <tr>\n",
       "      <th>0</th>\n",
       "      <td>Anderson County</td>\n",
       "      <td>118701</td>\n",
       "    </tr>\n",
       "    <tr>\n",
       "      <th>1</th>\n",
       "      <td>Andrews County</td>\n",
       "      <td>35121</td>\n",
       "    </tr>\n",
       "    <tr>\n",
       "      <th>2</th>\n",
       "      <td>Angelina County</td>\n",
       "      <td>125828</td>\n",
       "    </tr>\n",
       "    <tr>\n",
       "      <th>3</th>\n",
       "      <td>Aransas County</td>\n",
       "      <td>34199</td>\n",
       "    </tr>\n",
       "    <tr>\n",
       "      <th>4</th>\n",
       "      <td>Archer County</td>\n",
       "      <td>49251</td>\n",
       "    </tr>\n",
       "  </tbody>\n",
       "</table>\n",
       "</div>"
      ],
      "text/plain": [
       "  police_department  num_stops\n",
       "0   Anderson County     118701\n",
       "1    Andrews County      35121\n",
       "2   Angelina County     125828\n",
       "3    Aransas County      34199\n",
       "4     Archer County      49251"
      ]
     },
     "execution_count": 51,
     "metadata": {},
     "output_type": "execute_result"
    }
   ],
   "source": [
    "## Calculate 100 largest police departments (counties) by number of stops\n",
    "\n",
    "totalTXstopsByDept = pd.DataFrame(cleanTXstops.groupby('police_department', as_index=False)['num_stops'].sum())\n",
    "totalTXstopsByDept.head()"
   ]
  },
  {
   "cell_type": "code",
   "execution_count": 52,
   "metadata": {},
   "outputs": [
    {
     "data": {
      "text/plain": [
       "254"
      ]
     },
     "execution_count": 52,
     "metadata": {},
     "output_type": "execute_result"
    }
   ],
   "source": [
    "len(totalTXstopsByDept)"
   ]
  },
  {
   "cell_type": "code",
   "execution_count": 54,
   "metadata": {},
   "outputs": [],
   "source": [
    "# Rank police departments (counties) by number of stops\n",
    "keepLargest = 100\n",
    "\n",
    "largestDepts = totalTXstopsByDept[len(totalTXstopsByDept) - rankdata(totalTXstopsByDept['num_stops']) < keepLargest]"
   ]
  },
  {
   "cell_type": "code",
   "execution_count": 55,
   "metadata": {},
   "outputs": [
    {
     "data": {
      "text/html": [
       "<div>\n",
       "<style scoped>\n",
       "    .dataframe tbody tr th:only-of-type {\n",
       "        vertical-align: middle;\n",
       "    }\n",
       "\n",
       "    .dataframe tbody tr th {\n",
       "        vertical-align: top;\n",
       "    }\n",
       "\n",
       "    .dataframe thead th {\n",
       "        text-align: right;\n",
       "    }\n",
       "</style>\n",
       "<table border=\"1\" class=\"dataframe\">\n",
       "  <thead>\n",
       "    <tr style=\"text-align: right;\">\n",
       "      <th></th>\n",
       "      <th>police_department</th>\n",
       "      <th>num_stops</th>\n",
       "    </tr>\n",
       "  </thead>\n",
       "  <tbody>\n",
       "    <tr>\n",
       "      <th>0</th>\n",
       "      <td>Anderson County</td>\n",
       "      <td>118701</td>\n",
       "    </tr>\n",
       "    <tr>\n",
       "      <th>2</th>\n",
       "      <td>Angelina County</td>\n",
       "      <td>125828</td>\n",
       "    </tr>\n",
       "    <tr>\n",
       "      <th>6</th>\n",
       "      <td>Atascosa County</td>\n",
       "      <td>126873</td>\n",
       "    </tr>\n",
       "    <tr>\n",
       "      <th>10</th>\n",
       "      <td>Bastrop County</td>\n",
       "      <td>148131</td>\n",
       "    </tr>\n",
       "    <tr>\n",
       "      <th>13</th>\n",
       "      <td>Bell County</td>\n",
       "      <td>269280</td>\n",
       "    </tr>\n",
       "  </tbody>\n",
       "</table>\n",
       "</div>"
      ],
      "text/plain": [
       "   police_department  num_stops\n",
       "0    Anderson County     118701\n",
       "2    Angelina County     125828\n",
       "6    Atascosa County     126873\n",
       "10    Bastrop County     148131\n",
       "13       Bell County     269280"
      ]
     },
     "execution_count": 55,
     "metadata": {},
     "output_type": "execute_result"
    }
   ],
   "source": [
    "largestDepts.head()"
   ]
  },
  {
   "cell_type": "code",
   "execution_count": 56,
   "metadata": {},
   "outputs": [],
   "source": [
    "# Merge largest departments on to 'cleanTXstops' and drop the small departments\n",
    "\n",
    "largeTXstops = pd.merge(cleanTXstops, largestDepts, on=['police_department'], how='left')"
   ]
  },
  {
   "cell_type": "code",
   "execution_count": 59,
   "metadata": {},
   "outputs": [
    {
     "data": {
      "text/plain": [
       "(1020, 6)"
      ]
     },
     "execution_count": 59,
     "metadata": {},
     "output_type": "execute_result"
    }
   ],
   "source": [
    "largeTXstops.shape"
   ]
  },
  {
   "cell_type": "code",
   "execution_count": 61,
   "metadata": {},
   "outputs": [],
   "source": [
    "largeTXstops.dropna(inplace=True)"
   ]
  },
  {
   "cell_type": "code",
   "execution_count": 66,
   "metadata": {},
   "outputs": [],
   "source": [
    "largeTXstops.drop(['num_stops_y'], axis=1, inplace=True) #drop total number of stops (county total which got merged on)\n",
    "largeTXstops.rename(columns = {'num_stops_x':\"num_stops\"}, inplace = True) #rename no. of stops column\n",
    "\n"
   ]
  },
  {
   "cell_type": "code",
   "execution_count": 69,
   "metadata": {},
   "outputs": [],
   "source": [
    "cleanTXstops = largeTXstops"
   ]
  },
  {
   "cell_type": "code",
   "execution_count": 71,
   "metadata": {},
   "outputs": [],
   "source": [
    "# We want to drop records where driver race is 'Other'\n",
    "cleanTXstops = cleanTXstops[cleanTXstops['driver_race']!='Other']"
   ]
  },
  {
   "cell_type": "code",
   "execution_count": 72,
   "metadata": {},
   "outputs": [
    {
     "name": "stderr",
     "output_type": "stream",
     "text": [
      "C:\\Users\\Jonathan\\Anaconda3\\lib\\site-packages\\ipykernel_launcher.py:1: SettingWithCopyWarning: \n",
      "A value is trying to be set on a copy of a slice from a DataFrame.\n",
      "Try using .loc[row_indexer,col_indexer] = value instead\n",
      "\n",
      "See the caveats in the documentation: http://pandas.pydata.org/pandas-docs/stable/indexing.html#indexing-view-versus-copy\n",
      "  \"\"\"Entry point for launching an IPython kernel.\n",
      "C:\\Users\\Jonathan\\Anaconda3\\lib\\site-packages\\ipykernel_launcher.py:2: SettingWithCopyWarning: \n",
      "A value is trying to be set on a copy of a slice from a DataFrame.\n",
      "Try using .loc[row_indexer,col_indexer] = value instead\n",
      "\n",
      "See the caveats in the documentation: http://pandas.pydata.org/pandas-docs/stable/indexing.html#indexing-view-versus-copy\n",
      "  \n"
     ]
    },
    {
     "data": {
      "text/html": [
       "<div>\n",
       "<style scoped>\n",
       "    .dataframe tbody tr th:only-of-type {\n",
       "        vertical-align: middle;\n",
       "    }\n",
       "\n",
       "    .dataframe tbody tr th {\n",
       "        vertical-align: top;\n",
       "    }\n",
       "\n",
       "    .dataframe thead th {\n",
       "        text-align: right;\n",
       "    }\n",
       "</style>\n",
       "<table border=\"1\" class=\"dataframe\">\n",
       "  <thead>\n",
       "    <tr style=\"text-align: right;\">\n",
       "      <th></th>\n",
       "      <th>police_department</th>\n",
       "      <th>driver_race</th>\n",
       "      <th>num_stops</th>\n",
       "      <th>num_searches</th>\n",
       "      <th>num_hits</th>\n",
       "      <th>search_rate</th>\n",
       "      <th>hit_rate</th>\n",
       "    </tr>\n",
       "  </thead>\n",
       "  <tbody>\n",
       "    <tr>\n",
       "      <th>0</th>\n",
       "      <td>Anderson County</td>\n",
       "      <td>Black</td>\n",
       "      <td>18850</td>\n",
       "      <td>346</td>\n",
       "      <td>136</td>\n",
       "      <td>0.0183554</td>\n",
       "      <td>0.393064</td>\n",
       "    </tr>\n",
       "    <tr>\n",
       "      <th>1</th>\n",
       "      <td>Anderson County</td>\n",
       "      <td>Hispanic</td>\n",
       "      <td>10928</td>\n",
       "      <td>229</td>\n",
       "      <td>77</td>\n",
       "      <td>0.0209553</td>\n",
       "      <td>0.336245</td>\n",
       "    </tr>\n",
       "    <tr>\n",
       "      <th>2</th>\n",
       "      <td>Anderson County</td>\n",
       "      <td>White</td>\n",
       "      <td>88923</td>\n",
       "      <td>1142</td>\n",
       "      <td>405</td>\n",
       "      <td>0.0128426</td>\n",
       "      <td>0.354641</td>\n",
       "    </tr>\n",
       "    <tr>\n",
       "      <th>8</th>\n",
       "      <td>Angelina County</td>\n",
       "      <td>Asian</td>\n",
       "      <td>671</td>\n",
       "      <td>3</td>\n",
       "      <td>2</td>\n",
       "      <td>0.00447094</td>\n",
       "      <td>0.666667</td>\n",
       "    </tr>\n",
       "    <tr>\n",
       "      <th>9</th>\n",
       "      <td>Angelina County</td>\n",
       "      <td>Black</td>\n",
       "      <td>19616</td>\n",
       "      <td>395</td>\n",
       "      <td>166</td>\n",
       "      <td>0.0201366</td>\n",
       "      <td>0.420253</td>\n",
       "    </tr>\n",
       "    <tr>\n",
       "      <th>10</th>\n",
       "      <td>Angelina County</td>\n",
       "      <td>Hispanic</td>\n",
       "      <td>15589</td>\n",
       "      <td>320</td>\n",
       "      <td>97</td>\n",
       "      <td>0.0205273</td>\n",
       "      <td>0.303125</td>\n",
       "    </tr>\n",
       "    <tr>\n",
       "      <th>12</th>\n",
       "      <td>Angelina County</td>\n",
       "      <td>White</td>\n",
       "      <td>89749</td>\n",
       "      <td>1215</td>\n",
       "      <td>468</td>\n",
       "      <td>0.0135378</td>\n",
       "      <td>0.385185</td>\n",
       "    </tr>\n",
       "    <tr>\n",
       "      <th>24</th>\n",
       "      <td>Atascosa County</td>\n",
       "      <td>Asian</td>\n",
       "      <td>1043</td>\n",
       "      <td>7</td>\n",
       "      <td>3</td>\n",
       "      <td>0.00671141</td>\n",
       "      <td>0.428571</td>\n",
       "    </tr>\n",
       "    <tr>\n",
       "      <th>25</th>\n",
       "      <td>Atascosa County</td>\n",
       "      <td>Black</td>\n",
       "      <td>4232</td>\n",
       "      <td>60</td>\n",
       "      <td>20</td>\n",
       "      <td>0.0141777</td>\n",
       "      <td>0.333333</td>\n",
       "    </tr>\n",
       "    <tr>\n",
       "      <th>26</th>\n",
       "      <td>Atascosa County</td>\n",
       "      <td>Hispanic</td>\n",
       "      <td>61501</td>\n",
       "      <td>1226</td>\n",
       "      <td>299</td>\n",
       "      <td>0.0199346</td>\n",
       "      <td>0.243883</td>\n",
       "    </tr>\n",
       "    <tr>\n",
       "      <th>28</th>\n",
       "      <td>Atascosa County</td>\n",
       "      <td>White</td>\n",
       "      <td>59947</td>\n",
       "      <td>1118</td>\n",
       "      <td>326</td>\n",
       "      <td>0.0186498</td>\n",
       "      <td>0.291592</td>\n",
       "    </tr>\n",
       "    <tr>\n",
       "      <th>41</th>\n",
       "      <td>Bastrop County</td>\n",
       "      <td>Asian</td>\n",
       "      <td>4710</td>\n",
       "      <td>34</td>\n",
       "      <td>8</td>\n",
       "      <td>0.00721868</td>\n",
       "      <td>0.235294</td>\n",
       "    </tr>\n",
       "    <tr>\n",
       "      <th>42</th>\n",
       "      <td>Bastrop County</td>\n",
       "      <td>Black</td>\n",
       "      <td>14278</td>\n",
       "      <td>556</td>\n",
       "      <td>201</td>\n",
       "      <td>0.038941</td>\n",
       "      <td>0.361511</td>\n",
       "    </tr>\n",
       "    <tr>\n",
       "      <th>43</th>\n",
       "      <td>Bastrop County</td>\n",
       "      <td>Hispanic</td>\n",
       "      <td>29064</td>\n",
       "      <td>1046</td>\n",
       "      <td>347</td>\n",
       "      <td>0.0359895</td>\n",
       "      <td>0.33174</td>\n",
       "    </tr>\n",
       "    <tr>\n",
       "      <th>45</th>\n",
       "      <td>Bastrop County</td>\n",
       "      <td>White</td>\n",
       "      <td>99845</td>\n",
       "      <td>2602</td>\n",
       "      <td>979</td>\n",
       "      <td>0.0260604</td>\n",
       "      <td>0.376249</td>\n",
       "    </tr>\n",
       "    <tr>\n",
       "      <th>52</th>\n",
       "      <td>Bell County</td>\n",
       "      <td>Asian</td>\n",
       "      <td>6743</td>\n",
       "      <td>48</td>\n",
       "      <td>11</td>\n",
       "      <td>0.00711849</td>\n",
       "      <td>0.229167</td>\n",
       "    </tr>\n",
       "    <tr>\n",
       "      <th>53</th>\n",
       "      <td>Bell County</td>\n",
       "      <td>Black</td>\n",
       "      <td>50820</td>\n",
       "      <td>916</td>\n",
       "      <td>314</td>\n",
       "      <td>0.0180244</td>\n",
       "      <td>0.342795</td>\n",
       "    </tr>\n",
       "    <tr>\n",
       "      <th>54</th>\n",
       "      <td>Bell County</td>\n",
       "      <td>Hispanic</td>\n",
       "      <td>46532</td>\n",
       "      <td>976</td>\n",
       "      <td>214</td>\n",
       "      <td>0.0209748</td>\n",
       "      <td>0.219262</td>\n",
       "    </tr>\n",
       "    <tr>\n",
       "      <th>56</th>\n",
       "      <td>Bell County</td>\n",
       "      <td>White</td>\n",
       "      <td>164692</td>\n",
       "      <td>2019</td>\n",
       "      <td>585</td>\n",
       "      <td>0.0122592</td>\n",
       "      <td>0.289747</td>\n",
       "    </tr>\n",
       "    <tr>\n",
       "      <th>57</th>\n",
       "      <td>Bexar County</td>\n",
       "      <td>Asian</td>\n",
       "      <td>1705</td>\n",
       "      <td>14</td>\n",
       "      <td>7</td>\n",
       "      <td>0.00821114</td>\n",
       "      <td>0.5</td>\n",
       "    </tr>\n",
       "  </tbody>\n",
       "</table>\n",
       "</div>"
      ],
      "text/plain": [
       "   police_department driver_race num_stops num_searches num_hits search_rate  \\\n",
       "0    Anderson County       Black     18850          346      136   0.0183554   \n",
       "1    Anderson County    Hispanic     10928          229       77   0.0209553   \n",
       "2    Anderson County       White     88923         1142      405   0.0128426   \n",
       "8    Angelina County       Asian       671            3        2  0.00447094   \n",
       "9    Angelina County       Black     19616          395      166   0.0201366   \n",
       "10   Angelina County    Hispanic     15589          320       97   0.0205273   \n",
       "12   Angelina County       White     89749         1215      468   0.0135378   \n",
       "24   Atascosa County       Asian      1043            7        3  0.00671141   \n",
       "25   Atascosa County       Black      4232           60       20   0.0141777   \n",
       "26   Atascosa County    Hispanic     61501         1226      299   0.0199346   \n",
       "28   Atascosa County       White     59947         1118      326   0.0186498   \n",
       "41    Bastrop County       Asian      4710           34        8  0.00721868   \n",
       "42    Bastrop County       Black     14278          556      201    0.038941   \n",
       "43    Bastrop County    Hispanic     29064         1046      347   0.0359895   \n",
       "45    Bastrop County       White     99845         2602      979   0.0260604   \n",
       "52       Bell County       Asian      6743           48       11  0.00711849   \n",
       "53       Bell County       Black     50820          916      314   0.0180244   \n",
       "54       Bell County    Hispanic     46532          976      214   0.0209748   \n",
       "56       Bell County       White    164692         2019      585   0.0122592   \n",
       "57      Bexar County       Asian      1705           14        7  0.00821114   \n",
       "\n",
       "    hit_rate  \n",
       "0   0.393064  \n",
       "1   0.336245  \n",
       "2   0.354641  \n",
       "8   0.666667  \n",
       "9   0.420253  \n",
       "10  0.303125  \n",
       "12  0.385185  \n",
       "24  0.428571  \n",
       "25  0.333333  \n",
       "26  0.243883  \n",
       "28  0.291592  \n",
       "41  0.235294  \n",
       "42  0.361511  \n",
       "43   0.33174  \n",
       "45  0.376249  \n",
       "52  0.229167  \n",
       "53  0.342795  \n",
       "54  0.219262  \n",
       "56  0.289747  \n",
       "57       0.5  "
      ]
     },
     "execution_count": 72,
     "metadata": {},
     "output_type": "execute_result"
    }
   ],
   "source": [
    "cleanTXstops['search_rate'] = cleanTXstops['num_searches'] / cleanTXstops['num_stops']\n",
    "cleanTXstops['hit_rate'] = cleanTXstops['num_hits'] / cleanTXstops['num_searches']\n",
    "cleanTXstops.head(20)"
   ]
  },
  {
   "cell_type": "code",
   "execution_count": 73,
   "metadata": {},
   "outputs": [
    {
     "data": {
      "text/plain": [
       "(385, 7)"
      ]
     },
     "execution_count": 73,
     "metadata": {},
     "output_type": "execute_result"
    }
   ],
   "source": [
    "cleanTXstops.shape"
   ]
  },
  {
   "cell_type": "code",
   "execution_count": 74,
   "metadata": {},
   "outputs": [],
   "source": [
    "cleanTXstops.to_csv('cleanTXstops.csv')"
   ]
  },
  {
   "cell_type": "code",
   "execution_count": null,
   "metadata": {},
   "outputs": [],
   "source": []
  }
 ],
 "metadata": {
  "kernelspec": {
   "display_name": "Python 3",
   "language": "python",
   "name": "python3"
  },
  "language_info": {
   "codemirror_mode": {
    "name": "ipython",
    "version": 3
   },
   "file_extension": ".py",
   "mimetype": "text/x-python",
   "name": "python",
   "nbconvert_exporter": "python",
   "pygments_lexer": "ipython3",
   "version": "3.6.4"
  }
 },
 "nbformat": 4,
 "nbformat_minor": 2
}
