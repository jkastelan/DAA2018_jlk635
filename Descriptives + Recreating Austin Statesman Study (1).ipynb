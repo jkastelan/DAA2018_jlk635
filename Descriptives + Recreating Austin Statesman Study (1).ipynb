{
 "cells": [
  {
   "cell_type": "code",
   "execution_count": 41,
   "metadata": {},
   "outputs": [],
   "source": [
    "import pandas as pd\n",
    "import geopandas as gp\n",
    "from shapely.geometry import Point\n",
    "import matplotlib.pyplot as plt\n",
    "import numpy as np\n",
    "%matplotlib inline"
   ]
  },
  {
   "cell_type": "code",
   "execution_count": 42,
   "metadata": {},
   "outputs": [
    {
     "name": "stderr",
     "output_type": "stream",
     "text": [
      "/opt/rh/anaconda/root/envs/PUI2016_Python3/lib/python3.5/site-packages/IPython/core/interactiveshell.py:2717: DtypeWarning: Columns (17,20,25) have mixed types. Specify dtype option on import or set low_memory=False.\n",
      "  interactivity=interactivity, compiler=compiler, result=result)\n"
     ]
    }
   ],
   "source": [
    "df = pd.read_csv(\"tx_stops_2010_2015.csv\", encoding=\"ISO-8859-1\")"
   ]
  },
  {
   "cell_type": "code",
   "execution_count": 43,
   "metadata": {},
   "outputs": [
    {
     "data": {
      "text/plain": [
       "Index(['Unnamed: 0', 'id', 'state', 'stop_date', 'stop_time', 'location_raw',\n",
       "       'county_name', 'county_fips', 'fine_grained_location',\n",
       "       'police_department', 'driver_gender', 'driver_age_raw', 'driver_age',\n",
       "       'driver_race_raw', 'driver_race', 'violation_raw', 'violation',\n",
       "       'search_conducted', 'search_type_raw', 'search_type',\n",
       "       'contraband_found', 'stop_outcome', 'is_arrested', 'lat', 'lon',\n",
       "       'officer_id', 'driver_race_original'],\n",
       "      dtype='object')"
      ]
     },
     "execution_count": 43,
     "metadata": {},
     "output_type": "execute_result"
    }
   ],
   "source": [
    "df.columns"
   ]
  },
  {
   "cell_type": "code",
   "execution_count": 44,
   "metadata": {},
   "outputs": [],
   "source": [
    "df = df[df.county_name == 'Harris County']"
   ]
  },
  {
   "cell_type": "markdown",
   "metadata": {},
   "source": [
    "## Baseline Stats: Harris County"
   ]
  },
  {
   "cell_type": "code",
   "execution_count": 45,
   "metadata": {},
   "outputs": [
    {
     "name": "stdout",
     "output_type": "stream",
     "text": [
      "1.26272103934 11.1659343294\n"
     ]
    }
   ],
   "source": [
    "print(100*df.search_conducted.dropna().astype(int).mean(), 100*df.search_conducted.dropna().astype(int).std())"
   ]
  },
  {
   "cell_type": "code",
   "execution_count": 46,
   "metadata": {},
   "outputs": [
    {
     "name": "stdout",
     "output_type": "stream",
     "text": [
      "0.462650532842 6.78610152879\n"
     ]
    }
   ],
   "source": [
    "print(100*df.contraband_found.dropna().astype(int).mean(), 100*df.contraband_found.dropna().astype(int).std())"
   ]
  },
  {
   "cell_type": "code",
   "execution_count": 47,
   "metadata": {},
   "outputs": [
    {
     "data": {
      "text/plain": [
       "48.689323716294965"
      ]
     },
     "execution_count": 47,
     "metadata": {},
     "output_type": "execute_result"
    }
   ],
   "source": [
    "100*len(df[df.stop_outcome=='Citation'])/len(df)"
   ]
  },
  {
   "cell_type": "code",
   "execution_count": 48,
   "metadata": {},
   "outputs": [
    {
     "data": {
      "text/plain": [
       "64.9731009175636"
      ]
     },
     "execution_count": 48,
     "metadata": {},
     "output_type": "execute_result"
    }
   ],
   "source": [
    "100*len(df[df.driver_gender=='M'])/len(df)"
   ]
  },
  {
   "cell_type": "code",
   "execution_count": 49,
   "metadata": {},
   "outputs": [
    {
     "data": {
      "text/plain": [
       "36.45357878670886"
      ]
     },
     "execution_count": 49,
     "metadata": {},
     "output_type": "execute_result"
    }
   ],
   "source": [
    "100*len(df[df.driver_race=='White'])/len(df)"
   ]
  },
  {
   "cell_type": "code",
   "execution_count": 50,
   "metadata": {},
   "outputs": [
    {
     "data": {
      "text/plain": [
       "24.382006660725175"
      ]
     },
     "execution_count": 50,
     "metadata": {},
     "output_type": "execute_result"
    }
   ],
   "source": [
    "100*len(df[df.driver_race=='Black'])/len(df)"
   ]
  },
  {
   "cell_type": "code",
   "execution_count": 51,
   "metadata": {},
   "outputs": [
    {
     "data": {
      "text/plain": [
       "30.82587940695732"
      ]
     },
     "execution_count": 51,
     "metadata": {},
     "output_type": "execute_result"
    }
   ],
   "source": [
    "100*len(df[df.driver_race=='Hispanic'])/len(df)"
   ]
  },
  {
   "cell_type": "code",
   "execution_count": 52,
   "metadata": {},
   "outputs": [
    {
     "data": {
      "text/plain": [
       "4.878277592757634"
      ]
     },
     "execution_count": 52,
     "metadata": {},
     "output_type": "execute_result"
    }
   ],
   "source": [
    "100*len(df[df.driver_race=='Asian'])/len(df)"
   ]
  },
  {
   "cell_type": "code",
   "execution_count": 53,
   "metadata": {},
   "outputs": [
    {
     "data": {
      "text/plain": [
       "0.2500478085636864"
      ]
     },
     "execution_count": 53,
     "metadata": {},
     "output_type": "execute_result"
    }
   ],
   "source": [
    "100*len(df[df.driver_race=='Other'])/len(df)"
   ]
  },
  {
   "cell_type": "code",
   "execution_count": 54,
   "metadata": {},
   "outputs": [
    {
     "data": {
      "text/plain": [
       "3.2102097442873276"
      ]
     },
     "execution_count": 54,
     "metadata": {},
     "output_type": "execute_result"
    }
   ],
   "source": [
    "100*len(df[df.driver_race.isnull()])/len(df)"
   ]
  },
  {
   "cell_type": "code",
   "execution_count": 55,
   "metadata": {},
   "outputs": [],
   "source": [
    "## Stats on Searches and Contraband Recovered, % Citations by Race"
   ]
  },
  {
   "cell_type": "code",
   "execution_count": 56,
   "metadata": {},
   "outputs": [
    {
     "name": "stdout",
     "output_type": "stream",
     "text": [
      "1.04439934663 10.1661294397\n",
      "0.388061179033 6.2173876427\n",
      "43.30198950806691\n"
     ]
    }
   ],
   "source": [
    "df1 = df[df.driver_race == 'White']\n",
    "print(100*df1.search_conducted.dropna().astype(int).mean(), 100*df1.search_conducted.dropna().astype(int).std())\n",
    "print(100*df1.contraband_found.dropna().astype(int).mean(), 100*df1.contraband_found.dropna().astype(int).std())\n",
    "print(100*len(df1[df1.stop_outcome=='Citation'])/len(df1))"
   ]
  },
  {
   "cell_type": "code",
   "execution_count": 57,
   "metadata": {},
   "outputs": [
    {
     "name": "stdout",
     "output_type": "stream",
     "text": [
      "1.81468324452 13.3483289779\n",
      "0.648312611012 8.02570278933\n",
      "46.80202444727262\n"
     ]
    }
   ],
   "source": [
    "df2 = df[df.driver_race == 'Black']\n",
    "print(100*df2.search_conducted.dropna().astype(int).mean(), 100*df2.search_conducted.dropna().astype(int).std())\n",
    "print(100*df2.contraband_found.dropna().astype(int).mean(), 100*df2.contraband_found.dropna().astype(int).std())\n",
    "print(100*len(df2[df2.stop_outcome=='Citation'])/len(df2))"
   ]
  },
  {
   "cell_type": "code",
   "execution_count": 58,
   "metadata": {},
   "outputs": [
    {
     "name": "stdout",
     "output_type": "stream",
     "text": [
      "1.2210398155 10.9824612611\n",
      "0.443700391018 6.64632877701\n",
      "17.750147033884545\n"
     ]
    }
   ],
   "source": [
    "df3 = df[df.driver_race == 'Hispanic']\n",
    "print(100*df3.search_conducted.dropna().astype(int).mean(), 100*df3.search_conducted.dropna().astype(int).std())\n",
    "print(100*df3.contraband_found.dropna().astype(int).mean(), 100*df3.contraband_found.dropna().astype(int).std())\n",
    "print(100*len(df3[df3.stop_outcome=='Citation'])/len(df))"
   ]
  },
  {
   "cell_type": "code",
   "execution_count": 59,
   "metadata": {},
   "outputs": [
    {
     "data": {
      "text/plain": [
       "9.248882362067784"
      ]
     },
     "execution_count": 59,
     "metadata": {},
     "output_type": "execute_result"
    }
   ],
   "source": [
    "100*len(df[(df.driver_race_original == 'White') & (df.driver_race == 'Hispanic')]) / len(df)"
   ]
  },
  {
   "cell_type": "code",
   "execution_count": 60,
   "metadata": {},
   "outputs": [
    {
     "data": {
      "text/plain": [
       "25633"
      ]
     },
     "execution_count": 60,
     "metadata": {},
     "output_type": "execute_result"
    }
   ],
   "source": [
    "len(df[(df.driver_race_original == 'White') & (df.driver_race == 'Hispanic')])"
   ]
  },
  {
   "cell_type": "code",
   "execution_count": 61,
   "metadata": {},
   "outputs": [],
   "source": [
    "#Finding IDs of cops who had more than 100 stops\n",
    "df_filt = df.groupby(\"officer_id\").count()\n",
    "df_filt['id'] = df_filt.index\n",
    "df_filt.head()\n",
    "ids = np.asarray(df_filt.id[df_filt.state >= 100].astype(str))"
   ]
  },
  {
   "cell_type": "code",
   "execution_count": 62,
   "metadata": {},
   "outputs": [],
   "source": [
    "df_search = df[df.search_conducted == True]\n",
    "df_search = df[(df.driver_race == 'Hispanic') | (df.driver_race == 'Black')].groupby(\"officer_id\").count()\n",
    "df_filt['id'] = df_filt.index\n",
    "df_filt.head()\n",
    "ids1 = np.asarray(df_filt.id[df_filt.state >= 20].astype(str))"
   ]
  },
  {
   "cell_type": "code",
   "execution_count": 63,
   "metadata": {},
   "outputs": [],
   "source": [
    "ids_filt = np.intersect1d(ids,ids1)"
   ]
  },
  {
   "cell_type": "code",
   "execution_count": 64,
   "metadata": {},
   "outputs": [
    {
     "data": {
      "text/plain": [
       "(171,)"
      ]
     },
     "execution_count": 64,
     "metadata": {},
     "output_type": "execute_result"
    }
   ],
   "source": [
    "ids_filt.shape"
   ]
  },
  {
   "cell_type": "code",
   "execution_count": 65,
   "metadata": {},
   "outputs": [
    {
     "name": "stderr",
     "output_type": "stream",
     "text": [
      "/opt/rh/anaconda/root/envs/PUI2016_Python3/lib/python3.5/site-packages/pandas/core/generic.py:2701: SettingWithCopyWarning: \n",
      "A value is trying to be set on a copy of a slice from a DataFrame.\n",
      "Try using .loc[row_indexer,col_indexer] = value instead\n",
      "\n",
      "See the caveats in the documentation: http://pandas.pydata.org/pandas-docs/stable/indexing.html#indexing-view-versus-copy\n",
      "  self[name] = value\n"
     ]
    }
   ],
   "source": [
    "df.officer_id = df.officer_id.astype(str)\n",
    "df_filt = df[df.officer_id.isin(ids_filt)]\n",
    "df_filt = df[df.search_conducted == True]\n",
    "df_filt.contraband_found = df_filt.contraband_found.fillna(0).astype(int)"
   ]
  },
  {
   "cell_type": "code",
   "execution_count": 66,
   "metadata": {},
   "outputs": [],
   "source": [
    "df_black_hispanic = df_filt[(df_filt.driver_race == 'Hispanic') | (df_filt.driver_race == 'Black')]\n",
    "df_white = df_filt[(df_filt.driver_race == 'White')]"
   ]
  },
  {
   "cell_type": "code",
   "execution_count": 67,
   "metadata": {},
   "outputs": [],
   "source": [
    "df_black_hispanic = df_filt[(df_filt.driver_race == 'Hispanic') | (df_filt.driver_race == 'Black')]\n",
    "df_white = df_filt[(df_filt.driver_race == 'White')]\n",
    "\n",
    "df_b_h_GB = df_black_hispanic.groupby('officer_id').count()\n",
    "df_white_GB = df_white.groupby('officer_id').count()\n",
    "\n",
    "df_b_h_GB['MinoritySearches'] = df_b_h_GB.id\n",
    "df_b_h_GB = pd.DataFrame(df_b_h_GB['MinoritySearches'])\n",
    "df_white_GB['WhiteSearches'] = df_white_GB.id\n",
    "df_white_GB = pd.DataFrame(df_white_GB.WhiteSearches)\n",
    "\n",
    "df_search = pd.merge(df_b_h_GB, df_white_GB, left_index=True, right_index=True)\n",
    "\n",
    "df_search[\"MinorityWhiteSearchRatio\"] = df_search.MinoritySearches/df_search.WhiteSearches"
   ]
  },
  {
   "cell_type": "code",
   "execution_count": 68,
   "metadata": {},
   "outputs": [
    {
     "data": {
      "text/plain": [
       "0.4589041095890411"
      ]
     },
     "execution_count": 68,
     "metadata": {},
     "output_type": "execute_result"
    }
   ],
   "source": [
    "len(df_search[df_search.MinorityWhiteSearchRatio > 2])/len(df_search)"
   ]
  },
  {
   "cell_type": "code",
   "execution_count": 69,
   "metadata": {},
   "outputs": [
    {
     "data": {
      "text/plain": [
       "0.21232876712328766"
      ]
     },
     "execution_count": 69,
     "metadata": {},
     "output_type": "execute_result"
    }
   ],
   "source": [
    "len(df_search[df_search.MinorityWhiteSearchRatio > 3])/len(df_search)"
   ]
  },
  {
   "cell_type": "code",
   "execution_count": 70,
   "metadata": {},
   "outputs": [
    {
     "data": {
      "text/plain": [
       "0.1095890410958904"
      ]
     },
     "execution_count": 70,
     "metadata": {},
     "output_type": "execute_result"
    }
   ],
   "source": [
    "len(df_search[df_search.MinorityWhiteSearchRatio > 4])/len(df_search)"
   ]
  },
  {
   "cell_type": "code",
   "execution_count": 71,
   "metadata": {},
   "outputs": [
    {
     "data": {
      "text/plain": [
       "(array([ 17.,  48.,  39.,  16.,  12.,   4.,   3.,   2.,   1.,   3.]),\n",
       " array([ 0,  1,  2,  3,  4,  5,  6,  7,  8,  9, 10]),\n",
       " <a list of 10 Patch objects>)"
      ]
     },
     "execution_count": 71,
     "metadata": {},
     "output_type": "execute_result"
    },
    {
     "data": {
      "image/png": "[encoded data removed]",
      "text/plain": [
       "<matplotlib.figure.Figure at 0x7fa2492dc978>"
      ]
     },
     "metadata": {},
     "output_type": "display_data"
    }
   ],
   "source": [
    "plt.hist(df_search.MinorityWhiteSearchRatio, bins=[0,1,2,3,4,5,6,7,8,9,10])"
   ]
  },
  {
   "cell_type": "code",
   "execution_count": 72,
   "metadata": {},
   "outputs": [
    {
     "data": {
      "text/plain": [
       "(array([  17.,   65.,  104.,  120.,  132.,  136.,  139.,  141.,  142.,  145.]),\n",
       " array([ 0,  1,  2,  3,  4,  5,  6,  7,  8,  9, 10]),\n",
       " <a list of 10 Patch objects>)"
      ]
     },
     "execution_count": 72,
     "metadata": {},
     "output_type": "execute_result"
    },
    {
     "data": {
      "image/png": "[encoded data removed]",
      "text/plain": [
       "<matplotlib.figure.Figure at 0x7fa246eea518>"
      ]
     },
     "metadata": {},
     "output_type": "display_data"
    }
   ],
   "source": [
    "plt.hist(df_search.MinorityWhiteSearchRatio, bins=[0,1,2,3,4,5,6,7,8,9,10], cumulative=True)"
   ]
  },
  {
   "cell_type": "code",
   "execution_count": 76,
   "metadata": {},
   "outputs": [],
   "source": [
    "\n",
    "df_b_h_C_GB = pd.DataFrame(df_black_hispanic.groupby('officer_id')['contraband_found'].sum())\n",
    "df_white_C_GB = pd.DataFrame(df_white.groupby('officer_id')['contraband_found'].sum())\n",
    "df_white_C_GB['WhiteContrabandRecovered'] = df_white_C_GB.contraband_found\n",
    "df_b_h_C_GB['MinorityContrabandRecovered'] = df_b_h_C_GB.contraband_found\n",
    "df_contraband = pd.merge(df_b_h_C_GB, df_white_C_GB, left_index=True, right_index=True)\n",
    "\n",
    "df_contraband[\"MinorityWhiteContrabandRatio\"] = df_contraband.MinorityContrabandRecovered/df_contraband.WhiteContrabandRecovered"
   ]
  },
  {
   "cell_type": "code",
   "execution_count": 84,
   "metadata": {},
   "outputs": [],
   "source": [
    "df_contraband_search = pd.merge(df_contraband, df_search, left_index=True, right_index=True)"
   ]
  },
  {
   "cell_type": "markdown",
   "metadata": {},
   "source": [
    "#### Statesman Methodology\n",
    "\n",
    "To compare search rates by race, we looked at individual troopers who had at least 100 stops and 20 searches of either black or Hispanic motorists, and then compared the number of searches to stops to get a search rate for that race. We did the same for their stops of white motorists, and then divided the rates to get a ratio of minority stops. For contraband hit rates, we compared the number of positive contraband results to the total number of searches by race for each trooper. DPS misidentified many Hispanic motorists as Anglo during the period studied, meaning the paper’s conclusions are most likely conservative.\n",
    "\n",
    "35 percent of the 1,138 troopers included in the analysis searched black and Hispanic motorists at least twice as often as white drivers.\n",
    "\n",
    "231 of the officers who searched black and Hispanic motorists at two times or more the rate at which they searched white drivers were less likely to find contraband while searching the minority drivers.\n",
    "\n",
    "65 DPS officers searched minority drivers at least three times more often than the white motorists they stopped yet found contraband less often.\n",
    "\n",
    "16 officers searched minority motorists more than four times as often as Anglos, with lower contraband hit rates."
   ]
  },
  {
   "cell_type": "markdown",
   "metadata": {},
   "source": [
    "#### Our Version of Their Stats\n",
    "To compare search rates by race, we looked at individual troopers who had at least 100 stops and 20 searches of either black or Hispanic motorists, and then compared the number of searches to stops to get a search rate for that race. We did the same for their stops of white motorists, and then divided the rates to get a ratio of minority stops. For contraband hit rates, we compared the number of positive contraband results to the total number of searches by race for each trooper. DPS misidentified many Hispanic motorists as Anglo during the period studied, meaning the paper’s conclusions are most likely conservative.\n",
    "\n",
    "46 percent of the 146 troopers included in the analysis searched black and Hispanic motorists at least twice as often as white drivers.\n",
    "\n",
    "31 of the officers who searched black and Hispanic motorists at two times or more the rate at which they searched white drivers were less likely to find contraband while searching the minority drivers (46% of the 46% above).\n",
    "\n",
    "31 DPS officers searched minority drivers at least three times more often than the white motorists they stopped, 12 found contraband less often (39%)\n",
    "\n",
    "16 officers searched minority motorists more than four times as often as Anglos, 5 with lower contraband hit rates (30%)"
   ]
  },
  {
   "cell_type": "code",
   "execution_count": 113,
   "metadata": {},
   "outputs": [],
   "source": [
    "df_contraband_search['MinorityHitRate'] = df_contraband_search.MinorityContrabandRecovered/df_contraband_search.MinoritySearches\n",
    "df_contraband_search['WhiteHitRate'] = df_contraband_search.WhiteContrabandRecovered/df_contraband_search.WhiteSearches"
   ]
  },
  {
   "cell_type": "code",
   "execution_count": 114,
   "metadata": {},
   "outputs": [],
   "source": [
    "df_contraband_search['HitRateDiff'] = df_contraband_search['WhiteHitRate'] - df_contraband_search.MinorityHitRate"
   ]
  },
  {
   "cell_type": "code",
   "execution_count": 116,
   "metadata": {},
   "outputs": [
    {
     "name": "stdout",
     "output_type": "stream",
     "text": [
      "0.4626865671641791 0.3870967741935484 0.3125\n"
     ]
    }
   ],
   "source": [
    "df_contraband_search_2 = df_contraband_search[df_contraband_search.MinorityWhiteSearchRatio > 2]\n",
    "df_contraband_search_3 = df_contraband_search[df_contraband_search.MinorityWhiteSearchRatio > 3]\n",
    "df_contraband_search_4 = df_contraband_search[df_contraband_search.MinorityWhiteSearchRatio > 4]\n",
    "print(len(df_contraband_search_2[df_contraband_search_2.HitRateDiff > 0])/len(df_contraband_search_2),\\\n",
    "len(df_contraband_search_3[df_contraband_search_3.HitRateDiff > 0])/len(df_contraband_search_3),\\\n",
    "len(df_contraband_search_4[df_contraband_search_4.HitRateDiff > 0])/len(df_contraband_search_4))"
   ]
  },
  {
   "cell_type": "code",
   "execution_count": 117,
   "metadata": {},
   "outputs": [
    {
     "name": "stdout",
     "output_type": "stream",
     "text": [
      "31 12 5\n"
     ]
    }
   ],
   "source": [
    "print(len(df_contraband_search_2[df_contraband_search_2.HitRateDiff > 0]),\\\n",
    "     len(df_contraband_search_3[df_contraband_search_3.HitRateDiff > 0]),\\\n",
    "    len(df_contraband_search_4[df_contraband_search_4.HitRateDiff > 0]))"
   ]
  },
  {
   "cell_type": "code",
   "execution_count": 121,
   "metadata": {},
   "outputs": [
    {
     "name": "stdout",
     "output_type": "stream",
     "text": [
      "16\n"
     ]
    }
   ],
   "source": [
    "print(len(df_contraband_search_4))"
   ]
  }
 ],
 "metadata": {
  "kernelspec": {
   "display_name": "PUI2016_Python3",
   "language": "python",
   "name": "pui2016_python3"
  },
  "language_info": {
   "codemirror_mode": {
    "name": "ipython",
    "version": 3
   },
   "file_extension": ".py",
   "mimetype": "text/x-python",
   "name": "python",
   "nbconvert_exporter": "python",
   "pygments_lexer": "ipython3",
   "version": "3.5.4"
  }
 },
 "nbformat": 4,
 "nbformat_minor": 2
}
