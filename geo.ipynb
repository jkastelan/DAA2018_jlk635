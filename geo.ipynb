{
 "cells": [
  {
   "cell_type": "code",
   "execution_count": 1,
   "metadata": {
    "collapsed": true
   },
   "outputs": [],
   "source": [
    "import pandas as pd\n",
    "import numpy as np"
   ]
  },
  {
   "cell_type": "code",
   "execution_count": 2,
   "metadata": {},
   "outputs": [
    {
     "name": "stdout",
     "output_type": "stream",
     "text": [
      "Populating the interactive namespace from numpy and matplotlib\n"
     ]
    }
   ],
   "source": [
    "import matplotlib.pyplot as plt\n",
    "\n",
    "%pylab inline"
   ]
  },
  {
   "cell_type": "code",
   "execution_count": 3,
   "metadata": {
    "collapsed": true
   },
   "outputs": [],
   "source": [
    "import geopandas as gp\n",
    "import shapely\n",
    "#import "
   ]
  },
  {
   "cell_type": "code",
   "execution_count": 4,
   "metadata": {},
   "outputs": [
    {
     "name": "stderr",
     "output_type": "stream",
     "text": [
      "/Users/tedu/anaconda3/lib/python3.6/site-packages/IPython/core/interactiveshell.py:2698: DtypeWarning: Columns (7,16,19,24) have mixed types. Specify dtype option on import or set low_memory=False.\n",
      "  interactivity=interactivity, compiler=compiler, result=result)\n"
     ]
    }
   ],
   "source": [
    "df = pd.read_csv('TX_cleaned.csv')"
   ]
  },
  {
   "cell_type": "code",
   "execution_count": 5,
   "metadata": {},
   "outputs": [
    {
     "data": {
      "text/html": [
       "<div>\n",
       "<style>\n",
       "    .dataframe thead tr:only-child th {\n",
       "        text-align: right;\n",
       "    }\n",
       "\n",
       "    .dataframe thead th {\n",
       "        text-align: left;\n",
       "    }\n",
       "\n",
       "    .dataframe tbody tr th {\n",
       "        vertical-align: top;\n",
       "    }\n",
       "</style>\n",
       "<table border=\"1\" class=\"dataframe\">\n",
       "  <thead>\n",
       "    <tr style=\"text-align: right;\">\n",
       "      <th></th>\n",
       "      <th>id</th>\n",
       "      <th>state</th>\n",
       "      <th>stop_date</th>\n",
       "      <th>stop_time</th>\n",
       "      <th>location_raw</th>\n",
       "      <th>county_name</th>\n",
       "      <th>county_fips</th>\n",
       "      <th>fine_grained_location</th>\n",
       "      <th>police_department</th>\n",
       "      <th>driver_gender</th>\n",
       "      <th>...</th>\n",
       "      <th>search_conducted</th>\n",
       "      <th>search_type_raw</th>\n",
       "      <th>search_type</th>\n",
       "      <th>contraband_found</th>\n",
       "      <th>stop_outcome</th>\n",
       "      <th>is_arrested</th>\n",
       "      <th>lat</th>\n",
       "      <th>lon</th>\n",
       "      <th>officer_id</th>\n",
       "      <th>driver_race_original</th>\n",
       "    </tr>\n",
       "  </thead>\n",
       "  <tbody>\n",
       "    <tr>\n",
       "      <th>0</th>\n",
       "      <td>TX-2006-0000001</td>\n",
       "      <td>TX</td>\n",
       "      <td>2006-01-01</td>\n",
       "      <td>00:00</td>\n",
       "      <td>Walker</td>\n",
       "      <td>Walker County</td>\n",
       "      <td>48471.0</td>\n",
       "      <td>674</td>\n",
       "      <td>NaN</td>\n",
       "      <td>F</td>\n",
       "      <td>...</td>\n",
       "      <td>False</td>\n",
       "      <td>NaN</td>\n",
       "      <td>NaN</td>\n",
       "      <td>False</td>\n",
       "      <td>Warning</td>\n",
       "      <td>NaN</td>\n",
       "      <td>NaN</td>\n",
       "      <td>NaN</td>\n",
       "      <td>09592</td>\n",
       "      <td>White</td>\n",
       "    </tr>\n",
       "    <tr>\n",
       "      <th>1</th>\n",
       "      <td>TX-2006-0000002</td>\n",
       "      <td>TX</td>\n",
       "      <td>2006-01-01</td>\n",
       "      <td>00:00</td>\n",
       "      <td>Hansford</td>\n",
       "      <td>Hansford County</td>\n",
       "      <td>48195.0</td>\n",
       "      <td>50</td>\n",
       "      <td>NaN</td>\n",
       "      <td>M</td>\n",
       "      <td>...</td>\n",
       "      <td>False</td>\n",
       "      <td>NaN</td>\n",
       "      <td>NaN</td>\n",
       "      <td>False</td>\n",
       "      <td>Citation</td>\n",
       "      <td>NaN</td>\n",
       "      <td>NaN</td>\n",
       "      <td>NaN</td>\n",
       "      <td>05457</td>\n",
       "      <td>White</td>\n",
       "    </tr>\n",
       "    <tr>\n",
       "      <th>2</th>\n",
       "      <td>TX-2006-0000003</td>\n",
       "      <td>TX</td>\n",
       "      <td>2006-01-01</td>\n",
       "      <td>00:00</td>\n",
       "      <td>Montgomery</td>\n",
       "      <td>Montgomery County</td>\n",
       "      <td>48339.0</td>\n",
       "      <td>700</td>\n",
       "      <td>NaN</td>\n",
       "      <td>M</td>\n",
       "      <td>...</td>\n",
       "      <td>True</td>\n",
       "      <td>Probable Cause</td>\n",
       "      <td>Probable Cause</td>\n",
       "      <td>True</td>\n",
       "      <td>Citation</td>\n",
       "      <td>NaN</td>\n",
       "      <td>NaN</td>\n",
       "      <td>NaN</td>\n",
       "      <td>11193</td>\n",
       "      <td>Hispanic</td>\n",
       "    </tr>\n",
       "    <tr>\n",
       "      <th>3</th>\n",
       "      <td>TX-2006-0000004</td>\n",
       "      <td>TX</td>\n",
       "      <td>2006-01-01</td>\n",
       "      <td>00:00</td>\n",
       "      <td>Chambers</td>\n",
       "      <td>Chambers County</td>\n",
       "      <td>48071.0</td>\n",
       "      <td>819</td>\n",
       "      <td>NaN</td>\n",
       "      <td>M</td>\n",
       "      <td>...</td>\n",
       "      <td>False</td>\n",
       "      <td>NaN</td>\n",
       "      <td>NaN</td>\n",
       "      <td>False</td>\n",
       "      <td>Warning</td>\n",
       "      <td>NaN</td>\n",
       "      <td>NaN</td>\n",
       "      <td>NaN</td>\n",
       "      <td>11758</td>\n",
       "      <td>White</td>\n",
       "    </tr>\n",
       "    <tr>\n",
       "      <th>4</th>\n",
       "      <td>TX-2006-0000005</td>\n",
       "      <td>TX</td>\n",
       "      <td>2006-01-01</td>\n",
       "      <td>00:00</td>\n",
       "      <td>Montgomery</td>\n",
       "      <td>Montgomery County</td>\n",
       "      <td>48339.0</td>\n",
       "      <td>456</td>\n",
       "      <td>NaN</td>\n",
       "      <td>M</td>\n",
       "      <td>...</td>\n",
       "      <td>True</td>\n",
       "      <td>Probable Cause</td>\n",
       "      <td>Probable Cause</td>\n",
       "      <td>True</td>\n",
       "      <td>Citation</td>\n",
       "      <td>NaN</td>\n",
       "      <td>NaN</td>\n",
       "      <td>NaN</td>\n",
       "      <td>11560</td>\n",
       "      <td>White</td>\n",
       "    </tr>\n",
       "  </tbody>\n",
       "</table>\n",
       "<p>5 rows × 26 columns</p>\n",
       "</div>"
      ],
      "text/plain": [
       "                id state   stop_date stop_time location_raw  \\\n",
       "0  TX-2006-0000001    TX  2006-01-01     00:00       Walker   \n",
       "1  TX-2006-0000002    TX  2006-01-01     00:00     Hansford   \n",
       "2  TX-2006-0000003    TX  2006-01-01     00:00   Montgomery   \n",
       "3  TX-2006-0000004    TX  2006-01-01     00:00     Chambers   \n",
       "4  TX-2006-0000005    TX  2006-01-01     00:00   Montgomery   \n",
       "\n",
       "         county_name  county_fips fine_grained_location  police_department  \\\n",
       "0      Walker County      48471.0                   674                NaN   \n",
       "1    Hansford County      48195.0                    50                NaN   \n",
       "2  Montgomery County      48339.0                   700                NaN   \n",
       "3    Chambers County      48071.0                   819                NaN   \n",
       "4  Montgomery County      48339.0                   456                NaN   \n",
       "\n",
       "  driver_gender         ...           search_conducted  search_type_raw  \\\n",
       "0             F         ...                      False              NaN   \n",
       "1             M         ...                      False              NaN   \n",
       "2             M         ...                       True   Probable Cause   \n",
       "3             M         ...                      False              NaN   \n",
       "4             M         ...                       True   Probable Cause   \n",
       "\n",
       "      search_type contraband_found stop_outcome is_arrested lat lon  \\\n",
       "0             NaN            False      Warning         NaN NaN NaN   \n",
       "1             NaN            False     Citation         NaN NaN NaN   \n",
       "2  Probable Cause             True     Citation         NaN NaN NaN   \n",
       "3             NaN            False      Warning         NaN NaN NaN   \n",
       "4  Probable Cause             True     Citation         NaN NaN NaN   \n",
       "\n",
       "  officer_id driver_race_original  \n",
       "0      09592                White  \n",
       "1      05457                White  \n",
       "2      11193             Hispanic  \n",
       "3      11758                White  \n",
       "4      11560                White  \n",
       "\n",
       "[5 rows x 26 columns]"
      ]
     },
     "execution_count": 5,
     "metadata": {},
     "output_type": "execute_result"
    }
   ],
   "source": [
    "df.head()"
   ]
  },
  {
   "cell_type": "code",
   "execution_count": 6,
   "metadata": {
    "collapsed": true
   },
   "outputs": [],
   "source": [
    "df_ = df[df['lat'].notnull() & df['lon'].notnull()]"
   ]
  },
  {
   "cell_type": "code",
   "execution_count": 9,
   "metadata": {
    "collapsed": true
   },
   "outputs": [],
   "source": [
    "df_harris = df_[df_.county_name == 'Harris County']"
   ]
  },
  {
   "cell_type": "code",
   "execution_count": 10,
   "metadata": {},
   "outputs": [
    {
     "data": {
      "text/plain": [
       "(351070, 26)"
      ]
     },
     "execution_count": 10,
     "metadata": {},
     "output_type": "execute_result"
    }
   ],
   "source": [
    "df_harris.shape"
   ]
  },
  {
   "cell_type": "code",
   "execution_count": null,
   "metadata": {},
   "outputs": [],
   "source": [
    "df.shape"
   ]
  },
  {
   "cell_type": "code",
   "execution_count": null,
   "metadata": {},
   "outputs": [],
   "source": [
    "df_.shape"
   ]
  },
  {
   "cell_type": "code",
   "execution_count": null,
   "metadata": {},
   "outputs": [],
   "source": [
    "14485864 / 23397249 "
   ]
  },
  {
   "cell_type": "code",
   "execution_count": null,
   "metadata": {},
   "outputs": [],
   "source": [
    "df_.head()"
   ]
  },
  {
   "cell_type": "code",
   "execution_count": null,
   "metadata": {},
   "outputs": [],
   "source": [
    "df_.groupby('fine_grained_location').count().head()"
   ]
  },
  {
   "cell_type": "code",
   "execution_count": null,
   "metadata": {
    "collapsed": true
   },
   "outputs": [],
   "source": [
    "df_fgl = df_.groupby('fine_grained_location').count()"
   ]
  },
  {
   "cell_type": "code",
   "execution_count": null,
   "metadata": {},
   "outputs": [],
   "source": [
    "df_fgl.shape"
   ]
  },
  {
   "cell_type": "code",
   "execution_count": null,
   "metadata": {},
   "outputs": [],
   "source": [
    "df_sample_fgl = df_[df_.fine_grained_location == 2.0]"
   ]
  },
  {
   "cell_type": "code",
   "execution_count": 13,
   "metadata": {
    "collapsed": true
   },
   "outputs": [],
   "source": [
    "df_sample_harris = df_harris.iloc[:5000, : ]"
   ]
  },
  {
   "cell_type": "code",
   "execution_count": 14,
   "metadata": {},
   "outputs": [
    {
     "name": "stdout",
     "output_type": "stream",
     "text": [
      "(5000, 26)\n"
     ]
    },
    {
     "data": {
      "text/html": [
       "<div>\n",
       "<style>\n",
       "    .dataframe thead tr:only-child th {\n",
       "        text-align: right;\n",
       "    }\n",
       "\n",
       "    .dataframe thead th {\n",
       "        text-align: left;\n",
       "    }\n",
       "\n",
       "    .dataframe tbody tr th {\n",
       "        vertical-align: top;\n",
       "    }\n",
       "</style>\n",
       "<table border=\"1\" class=\"dataframe\">\n",
       "  <thead>\n",
       "    <tr style=\"text-align: right;\">\n",
       "      <th></th>\n",
       "      <th>id</th>\n",
       "      <th>state</th>\n",
       "      <th>stop_date</th>\n",
       "      <th>stop_time</th>\n",
       "      <th>location_raw</th>\n",
       "      <th>county_name</th>\n",
       "      <th>county_fips</th>\n",
       "      <th>fine_grained_location</th>\n",
       "      <th>police_department</th>\n",
       "      <th>driver_gender</th>\n",
       "      <th>...</th>\n",
       "      <th>search_conducted</th>\n",
       "      <th>search_type_raw</th>\n",
       "      <th>search_type</th>\n",
       "      <th>contraband_found</th>\n",
       "      <th>stop_outcome</th>\n",
       "      <th>is_arrested</th>\n",
       "      <th>lat</th>\n",
       "      <th>lon</th>\n",
       "      <th>officer_id</th>\n",
       "      <th>driver_race_original</th>\n",
       "    </tr>\n",
       "  </thead>\n",
       "  <tbody>\n",
       "    <tr>\n",
       "      <th>3999991</th>\n",
       "      <td>TX-2007-1306098</td>\n",
       "      <td>TX</td>\n",
       "      <td>2007-07-18</td>\n",
       "      <td>09:11</td>\n",
       "      <td>Harris</td>\n",
       "      <td>Harris County</td>\n",
       "      <td>48201.0</td>\n",
       "      <td>766</td>\n",
       "      <td>NaN</td>\n",
       "      <td>F</td>\n",
       "      <td>...</td>\n",
       "      <td>False</td>\n",
       "      <td>NaN</td>\n",
       "      <td>NaN</td>\n",
       "      <td>False</td>\n",
       "      <td>Warning</td>\n",
       "      <td>NaN</td>\n",
       "      <td>29.777582</td>\n",
       "      <td>-95.372184</td>\n",
       "      <td>08738</td>\n",
       "      <td>Black</td>\n",
       "    </tr>\n",
       "    <tr>\n",
       "      <th>4031909</th>\n",
       "      <td>TX-2007-1338016</td>\n",
       "      <td>TX</td>\n",
       "      <td>2007-07-23</td>\n",
       "      <td>12:45</td>\n",
       "      <td>Harris</td>\n",
       "      <td>Harris County</td>\n",
       "      <td>48201.0</td>\n",
       "      <td>744</td>\n",
       "      <td>NaN</td>\n",
       "      <td>M</td>\n",
       "      <td>...</td>\n",
       "      <td>False</td>\n",
       "      <td>NaN</td>\n",
       "      <td>NaN</td>\n",
       "      <td>False</td>\n",
       "      <td>Warning</td>\n",
       "      <td>NaN</td>\n",
       "      <td>29.784717</td>\n",
       "      <td>-95.770248</td>\n",
       "      <td>08738</td>\n",
       "      <td>White</td>\n",
       "    </tr>\n",
       "    <tr>\n",
       "      <th>4031961</th>\n",
       "      <td>TX-2007-1338068</td>\n",
       "      <td>TX</td>\n",
       "      <td>2007-07-23</td>\n",
       "      <td>13:00</td>\n",
       "      <td>Harris</td>\n",
       "      <td>Harris County</td>\n",
       "      <td>48201.0</td>\n",
       "      <td>745</td>\n",
       "      <td>NaN</td>\n",
       "      <td>M</td>\n",
       "      <td>...</td>\n",
       "      <td>False</td>\n",
       "      <td>NaN</td>\n",
       "      <td>NaN</td>\n",
       "      <td>False</td>\n",
       "      <td>Citation</td>\n",
       "      <td>NaN</td>\n",
       "      <td>29.785049</td>\n",
       "      <td>-95.698532</td>\n",
       "      <td>08738</td>\n",
       "      <td>White</td>\n",
       "    </tr>\n",
       "    <tr>\n",
       "      <th>4041081</th>\n",
       "      <td>TX-2007-1347188</td>\n",
       "      <td>TX</td>\n",
       "      <td>2007-07-25</td>\n",
       "      <td>08:04</td>\n",
       "      <td>Harris</td>\n",
       "      <td>Harris County</td>\n",
       "      <td>48201.0</td>\n",
       "      <td>743</td>\n",
       "      <td>NaN</td>\n",
       "      <td>F</td>\n",
       "      <td>...</td>\n",
       "      <td>False</td>\n",
       "      <td>NaN</td>\n",
       "      <td>NaN</td>\n",
       "      <td>False</td>\n",
       "      <td>Citation</td>\n",
       "      <td>NaN</td>\n",
       "      <td>29.785083</td>\n",
       "      <td>-95.776565</td>\n",
       "      <td>08738</td>\n",
       "      <td>Hispanic</td>\n",
       "    </tr>\n",
       "    <tr>\n",
       "      <th>4077551</th>\n",
       "      <td>TX-2007-1383658</td>\n",
       "      <td>TX</td>\n",
       "      <td>2007-07-31</td>\n",
       "      <td>08:50</td>\n",
       "      <td>Harris</td>\n",
       "      <td>Harris County</td>\n",
       "      <td>48201.0</td>\n",
       "      <td>700</td>\n",
       "      <td>NaN</td>\n",
       "      <td>M</td>\n",
       "      <td>...</td>\n",
       "      <td>False</td>\n",
       "      <td>NaN</td>\n",
       "      <td>NaN</td>\n",
       "      <td>False</td>\n",
       "      <td>Warning</td>\n",
       "      <td>NaN</td>\n",
       "      <td>29.777433</td>\n",
       "      <td>-95.776367</td>\n",
       "      <td>08738</td>\n",
       "      <td>White</td>\n",
       "    </tr>\n",
       "  </tbody>\n",
       "</table>\n",
       "<p>5 rows × 26 columns</p>\n",
       "</div>"
      ],
      "text/plain": [
       "                      id state   stop_date stop_time location_raw  \\\n",
       "3999991  TX-2007-1306098    TX  2007-07-18     09:11       Harris   \n",
       "4031909  TX-2007-1338016    TX  2007-07-23     12:45       Harris   \n",
       "4031961  TX-2007-1338068    TX  2007-07-23     13:00       Harris   \n",
       "4041081  TX-2007-1347188    TX  2007-07-25     08:04       Harris   \n",
       "4077551  TX-2007-1383658    TX  2007-07-31     08:50       Harris   \n",
       "\n",
       "           county_name  county_fips fine_grained_location  police_department  \\\n",
       "3999991  Harris County      48201.0                   766                NaN   \n",
       "4031909  Harris County      48201.0                   744                NaN   \n",
       "4031961  Harris County      48201.0                   745                NaN   \n",
       "4041081  Harris County      48201.0                   743                NaN   \n",
       "4077551  Harris County      48201.0                   700                NaN   \n",
       "\n",
       "        driver_gender         ...           search_conducted  search_type_raw  \\\n",
       "3999991             F         ...                      False              NaN   \n",
       "4031909             M         ...                      False              NaN   \n",
       "4031961             M         ...                      False              NaN   \n",
       "4041081             F         ...                      False              NaN   \n",
       "4077551             M         ...                      False              NaN   \n",
       "\n",
       "        search_type contraband_found stop_outcome is_arrested        lat  \\\n",
       "3999991         NaN            False      Warning         NaN  29.777582   \n",
       "4031909         NaN            False      Warning         NaN  29.784717   \n",
       "4031961         NaN            False     Citation         NaN  29.785049   \n",
       "4041081         NaN            False     Citation         NaN  29.785083   \n",
       "4077551         NaN            False      Warning         NaN  29.777433   \n",
       "\n",
       "               lon officer_id driver_race_original  \n",
       "3999991 -95.372184      08738                Black  \n",
       "4031909 -95.770248      08738                White  \n",
       "4031961 -95.698532      08738                White  \n",
       "4041081 -95.776565      08738             Hispanic  \n",
       "4077551 -95.776367      08738                White  \n",
       "\n",
       "[5 rows x 26 columns]"
      ]
     },
     "execution_count": 14,
     "metadata": {},
     "output_type": "execute_result"
    }
   ],
   "source": [
    "print(df_sample_harris.shape)\n",
    "df_sample_harris.head()"
   ]
  },
  {
   "cell_type": "code",
   "execution_count": 16,
   "metadata": {},
   "outputs": [
    {
     "data": {
      "image/png": "[encoded data removed]",
      "text/plain": [
       "<matplotlib.figure.Figure at 0x1ccba6e80>"
      ]
     },
     "metadata": {},
     "output_type": "display_data"
    }
   ],
   "source": [
    "fig = plt.figure(figsize=(10,10))\n",
    "ax = fig.add_subplot(111)\n",
    "\n",
    "for i in range(df_sample_harris.shape[0]):\n",
    "    ax.plot(df_sample_harris.lon.iloc[i], df_sample_harris.lat.iloc[i], 'o')"
   ]
  },
  {
   "cell_type": "code",
   "execution_count": null,
   "metadata": {},
   "outputs": [],
   "source": [
    "ls"
   ]
  },
  {
   "cell_type": "code",
   "execution_count": 19,
   "metadata": {},
   "outputs": [],
   "source": [
    "shp = 'political-bnd_tx/txdot-counties/txdot-2015-county-generalized_tx.shp'\n",
    "gdf_counties = gp.GeoDataFrame.from_file(shp)"
   ]
  },
  {
   "cell_type": "code",
   "execution_count": null,
   "metadata": {},
   "outputs": [],
   "source": [
    "gdf_counties.head()"
   ]
  },
  {
   "cell_type": "code",
   "execution_count": null,
   "metadata": {},
   "outputs": [],
   "source": [
    "print(gdf_counties.crs)"
   ]
  },
  {
   "cell_type": "code",
   "execution_count": null,
   "metadata": {},
   "outputs": [],
   "source": [
    "gdf_counties.shape"
   ]
  },
  {
   "cell_type": "code",
   "execution_count": null,
   "metadata": {},
   "outputs": [],
   "source": [
    "gdf_counties.plot()"
   ]
  },
  {
   "cell_type": "code",
   "execution_count": 17,
   "metadata": {},
   "outputs": [
    {
     "name": "stderr",
     "output_type": "stream",
     "text": [
      "/Users/tedu/anaconda3/lib/python3.6/site-packages/ipykernel_launcher.py:1: SettingWithCopyWarning: \n",
      "A value is trying to be set on a copy of a slice from a DataFrame.\n",
      "Try using .loc[row_indexer,col_indexer] = value instead\n",
      "\n",
      "See the caveats in the documentation: http://pandas.pydata.org/pandas-docs/stable/indexing.html#indexing-view-versus-copy\n",
      "  \"\"\"Entry point for launching an IPython kernel.\n",
      "/Users/tedu/anaconda3/lib/python3.6/site-packages/ipykernel_launcher.py:2: SettingWithCopyWarning: \n",
      "A value is trying to be set on a copy of a slice from a DataFrame.\n",
      "Try using .loc[row_indexer,col_indexer] = value instead\n",
      "\n",
      "See the caveats in the documentation: http://pandas.pydata.org/pandas-docs/stable/indexing.html#indexing-view-versus-copy\n",
      "  \n"
     ]
    }
   ],
   "source": [
    "df_sample_harris['lonlat'] = list(zip(df_sample_harris.lon, df_sample_harris.lat))\n",
    "df_sample_harris['geometry'] = df_sample_harris.lonlat.apply(lambda x:shapely.geometry.Point(x))\n",
    "#df_sample_fgl.rename(columns={df.columns[2] : 'pm2_5'})\n",
    "#df.drop('lonlat', axis=1, inplace=True)"
   ]
  },
  {
   "cell_type": "code",
   "execution_count": null,
   "metadata": {},
   "outputs": [],
   "source": [
    "df_sample_fgl.head()"
   ]
  },
  {
   "cell_type": "code",
   "execution_count": 18,
   "metadata": {},
   "outputs": [],
   "source": [
    "crs_4269 = {'init': 'epsg:4269'}\n",
    "\n",
    "gdf_sample = gp.GeoDataFrame(df_sample_harris, geometry='geometry', crs=crs_4269)"
   ]
  },
  {
   "cell_type": "code",
   "execution_count": null,
   "metadata": {},
   "outputs": [],
   "source": [
    "print(gdf_sample.crs)"
   ]
  },
  {
   "cell_type": "code",
   "execution_count": 27,
   "metadata": {},
   "outputs": [
    {
     "data": {
      "text/plain": [
       "(29, 31)"
      ]
     },
     "execution_count": 27,
     "metadata": {},
     "output_type": "execute_result"
    },
    {
     "data": {
      "image/png": "[encoded data removed]",
      "text/plain": [
       "<matplotlib.figure.Figure at 0x1d2eba5f8>"
      ]
     },
     "metadata": {},
     "output_type": "display_data"
    }
   ],
   "source": [
    "fig = plt.figure(figsize(10, 10))\n",
    "ax_base = fig.add_subplot(111)\n",
    "\n",
    "base = gdf_counties['geometry'].plot(ax=ax_base, color='gray')\n",
    "gdf_sample['geometry'].plot(ax=base, marker='o', alpha=0.5)\n",
    "\n",
    "ax_base.set_xlim(-96.5, -94)\n",
    "ax_base.set_ylim(29, 31)"
   ]
  }
 ],
 "metadata": {
  "kernelspec": {
   "display_name": "Python 3",
   "language": "python",
   "name": "python3"
  },
  "language_info": {
   "codemirror_mode": {
    "name": "ipython",
    "version": 3
   },
   "file_extension": ".py",
   "mimetype": "text/x-python",
   "name": "python",
   "nbconvert_exporter": "python",
   "pygments_lexer": "ipython3",
   "version": "3.6.3"
  }
 },
 "nbformat": 4,
 "nbformat_minor": 2
}
