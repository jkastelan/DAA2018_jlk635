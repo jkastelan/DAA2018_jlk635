{
 "cells": [
  {
   "cell_type": "code",
   "execution_count": 1,
   "metadata": {},
   "outputs": [],
   "source": [
    "import pandas as pd\n",
    "import geopandas as gp\n",
    "from shapely.geometry import Point\n",
    "import matplotlib as plt\n",
    "import numpy as np\n",
    "%matplotlib inline"
   ]
  },
  {
   "cell_type": "code",
   "execution_count": 2,
   "metadata": {},
   "outputs": [
    {
     "name": "stderr",
     "output_type": "stream",
     "text": [
      "/opt/rh/anaconda/root/envs/PUI2016_Python3/lib/python3.5/site-packages/IPython/core/interactiveshell.py:2717: DtypeWarning: Columns (17,20,25) have mixed types. Specify dtype option on import or set low_memory=False.\n",
      "  interactivity=interactivity, compiler=compiler, result=result)\n"
     ]
    }
   ],
   "source": [
    "df = pd.read_csv(\"tx_stops_2010_2015.csv\", encoding=\"ISO-8859-1\")"
   ]
  },
  {
   "cell_type": "code",
   "execution_count": 3,
   "metadata": {},
   "outputs": [
    {
     "data": {
      "text/plain": [
       "Index(['Unnamed: 0', 'id', 'state', 'stop_date', 'stop_time', 'location_raw',\n",
       "       'county_name', 'county_fips', 'fine_grained_location',\n",
       "       'police_department', 'driver_gender', 'driver_age_raw', 'driver_age',\n",
       "       'driver_race_raw', 'driver_race', 'violation_raw', 'violation',\n",
       "       'search_conducted', 'search_type_raw', 'search_type',\n",
       "       'contraband_found', 'stop_outcome', 'is_arrested', 'lat', 'lon',\n",
       "       'officer_id', 'driver_race_original'],\n",
       "      dtype='object')"
      ]
     },
     "execution_count": 3,
     "metadata": {},
     "output_type": "execute_result"
    }
   ],
   "source": [
    "df.columns"
   ]
  },
  {
   "cell_type": "code",
   "execution_count": 4,
   "metadata": {},
   "outputs": [],
   "source": [
    "df = df[df.county_name == 'Harris County']"
   ]
  },
  {
   "cell_type": "markdown",
   "metadata": {},
   "source": [
    "## Baseline Stats: Harris County"
   ]
  },
  {
   "cell_type": "code",
   "execution_count": 5,
   "metadata": {},
   "outputs": [
    {
     "name": "stdout",
     "output_type": "stream",
     "text": [
      "1.26272103934 11.1659343294\n"
     ]
    }
   ],
   "source": [
    "print(100*df.search_conducted.dropna().astype(int).mean(), 100*df.search_conducted.dropna().astype(int).std())"
   ]
  },
  {
   "cell_type": "code",
   "execution_count": 6,
   "metadata": {},
   "outputs": [
    {
     "name": "stdout",
     "output_type": "stream",
     "text": [
      "0.462650532842 6.78610152879\n"
     ]
    }
   ],
   "source": [
    "print(100*df.contraband_found.dropna().astype(int).mean(), 100*df.contraband_found.dropna().astype(int).std())"
   ]
  },
  {
   "cell_type": "code",
   "execution_count": 7,
   "metadata": {},
   "outputs": [
    {
     "data": {
      "text/plain": [
       "48.689323716294965"
      ]
     },
     "execution_count": 7,
     "metadata": {},
     "output_type": "execute_result"
    }
   ],
   "source": [
    "100*len(df[df.stop_outcome=='Citation'])/len(df)"
   ]
  },
  {
   "cell_type": "code",
   "execution_count": 8,
   "metadata": {},
   "outputs": [
    {
     "data": {
      "text/plain": [
       "64.9731009175636"
      ]
     },
     "execution_count": 8,
     "metadata": {},
     "output_type": "execute_result"
    }
   ],
   "source": [
    "100*len(df[df.driver_gender=='M'])/len(df)"
   ]
  },
  {
   "cell_type": "code",
   "execution_count": 9,
   "metadata": {},
   "outputs": [
    {
     "data": {
      "text/plain": [
       "36.45357878670886"
      ]
     },
     "execution_count": 9,
     "metadata": {},
     "output_type": "execute_result"
    }
   ],
   "source": [
    "100*len(df[df.driver_race=='White'])/len(df)"
   ]
  },
  {
   "cell_type": "code",
   "execution_count": 10,
   "metadata": {},
   "outputs": [
    {
     "data": {
      "text/plain": [
       "24.382006660725175"
      ]
     },
     "execution_count": 10,
     "metadata": {},
     "output_type": "execute_result"
    }
   ],
   "source": [
    "100*len(df[df.driver_race=='Black'])/len(df)"
   ]
  },
  {
   "cell_type": "code",
   "execution_count": 11,
   "metadata": {},
   "outputs": [
    {
     "data": {
      "text/plain": [
       "30.82587940695732"
      ]
     },
     "execution_count": 11,
     "metadata": {},
     "output_type": "execute_result"
    }
   ],
   "source": [
    "100*len(df[df.driver_race=='Hispanic'])/len(df)"
   ]
  },
  {
   "cell_type": "code",
   "execution_count": 12,
   "metadata": {},
   "outputs": [
    {
     "data": {
      "text/plain": [
       "4.878277592757634"
      ]
     },
     "execution_count": 12,
     "metadata": {},
     "output_type": "execute_result"
    }
   ],
   "source": [
    "100*len(df[df.driver_race=='Asian'])/len(df)"
   ]
  },
  {
   "cell_type": "code",
   "execution_count": 13,
   "metadata": {},
   "outputs": [
    {
     "data": {
      "text/plain": [
       "0.2500478085636864"
      ]
     },
     "execution_count": 13,
     "metadata": {},
     "output_type": "execute_result"
    }
   ],
   "source": [
    "100*len(df[df.driver_race=='Other'])/len(df)"
   ]
  },
  {
   "cell_type": "code",
   "execution_count": 14,
   "metadata": {},
   "outputs": [
    {
     "data": {
      "text/plain": [
       "3.2102097442873276"
      ]
     },
     "execution_count": 14,
     "metadata": {},
     "output_type": "execute_result"
    }
   ],
   "source": [
    "100*len(df[df.driver_race.isnull()])/len(df)"
   ]
  },
  {
   "cell_type": "code",
   "execution_count": 15,
   "metadata": {},
   "outputs": [],
   "source": [
    "## Stats on Searches and Contraband Recovered, % Citations by Race"
   ]
  },
  {
   "cell_type": "code",
   "execution_count": 16,
   "metadata": {},
   "outputs": [
    {
     "name": "stdout",
     "output_type": "stream",
     "text": [
      "1.04439934663 10.1661294397\n",
      "0.388061179033 6.2173876427\n",
      "43.30198950806691\n"
     ]
    }
   ],
   "source": [
    "df1 = df[df.driver_race == 'White']\n",
    "print(100*df1.search_conducted.dropna().astype(int).mean(), 100*df1.search_conducted.dropna().astype(int).std())\n",
    "print(100*df1.contraband_found.dropna().astype(int).mean(), 100*df1.contraband_found.dropna().astype(int).std())\n",
    "print(100*len(df1[df1.stop_outcome=='Citation'])/len(df1))"
   ]
  },
  {
   "cell_type": "code",
   "execution_count": 17,
   "metadata": {},
   "outputs": [
    {
     "name": "stdout",
     "output_type": "stream",
     "text": [
      "1.81468324452 13.3483289779\n",
      "0.648312611012 8.02570278933\n",
      "46.80202444727262\n"
     ]
    }
   ],
   "source": [
    "df2 = df[df.driver_race == 'Black']\n",
    "print(100*df2.search_conducted.dropna().astype(int).mean(), 100*df2.search_conducted.dropna().astype(int).std())\n",
    "print(100*df2.contraband_found.dropna().astype(int).mean(), 100*df2.contraband_found.dropna().astype(int).std())\n",
    "print(100*len(df2[df2.stop_outcome=='Citation'])/len(df2))"
   ]
  },
  {
   "cell_type": "code",
   "execution_count": 18,
   "metadata": {},
   "outputs": [
    {
     "name": "stdout",
     "output_type": "stream",
     "text": [
      "1.2210398155 10.9824612611\n",
      "0.443700391018 6.64632877701\n",
      "17.750147033884545\n"
     ]
    }
   ],
   "source": [
    "df3 = df[df.driver_race == 'Hispanic']\n",
    "print(100*df3.search_conducted.dropna().astype(int).mean(), 100*df3.search_conducted.dropna().astype(int).std())\n",
    "print(100*df3.contraband_found.dropna().astype(int).mean(), 100*df3.contraband_found.dropna().astype(int).std())\n",
    "print(100*len(df3[df3.stop_outcome=='Citation'])/len(df))"
   ]
  },
  {
   "cell_type": "markdown",
   "metadata": {},
   "source": [
    "Statesman Methodology\n",
    "\n",
    "To compare search rates by race, we looked at individual troopers who had at least 100 stops and 20 searches of either black or Hispanic motorists, and then compared the number of searches to stops to get a search rate for that race. We did the same for their stops of white motorists, and then divided the rates to get a ratio of minority stops. For contraband hit rates, we compared the number of positive contraband results to the total number of searches by race for each trooper. DPS misidentified many Hispanic motorists as Anglo during the period studied, meaning the paper’s conclusions are most likely conservative.\n",
    "\n",
    "35 percent of the 1,138 troopers included in the analysis searched black and Hispanic motorists at least twice as often as white drivers.\n",
    "\n",
    "231 of the officers who searched black and Hispanic motorists at two times or more the rate at which they searched white drivers were less likely to find contraband while searching the minority drivers.\n",
    "\n",
    "65 DPS officers searched minority drivers at least three times more often than the white motorists they stopped yet found contraband less often.\n",
    "\n",
    "16 officers searched minority motorists more than four times as often as Anglos, with lower contraband hit rates."
   ]
  },
  {
   "cell_type": "code",
   "execution_count": 19,
   "metadata": {},
   "outputs": [
    {
     "data": {
      "text/plain": [
       "Index(['Unnamed: 0', 'id', 'state', 'stop_date', 'stop_time', 'location_raw',\n",
       "       'county_name', 'county_fips', 'fine_grained_location',\n",
       "       'police_department', 'driver_gender', 'driver_age_raw', 'driver_age',\n",
       "       'driver_race_raw', 'driver_race', 'violation_raw', 'violation',\n",
       "       'search_conducted', 'search_type_raw', 'search_type',\n",
       "       'contraband_found', 'stop_outcome', 'is_arrested', 'lat', 'lon',\n",
       "       'officer_id', 'driver_race_original'],\n",
       "      dtype='object')"
      ]
     },
     "execution_count": 19,
     "metadata": {},
     "output_type": "execute_result"
    }
   ],
   "source": [
    "df.columns"
   ]
  },
  {
   "cell_type": "code",
   "execution_count": 20,
   "metadata": {},
   "outputs": [],
   "source": [
    "df_filt = df.groupby(\"officer_id\").count()\n",
    "df_filt['id'] = df_filt.index\n",
    "df_filt.head()\n",
    "ids = np.asarray(df_filt.id[df_filt.state >= 100])"
   ]
  },
  {
   "cell_type": "code",
   "execution_count": 21,
   "metadata": {},
   "outputs": [],
   "source": [
    "df_filt = df[(df.driver_race == 'Hispanic') | (df.driver_race == 'Black')].groupby(\"officer_id\").count()\n",
    "df_filt['id'] = df_filt.index\n",
    "df_filt.head()\n",
    "ids1 = np.asarray(df_filt.id[df_filt.state >= 20])"
   ]
  },
  {
   "cell_type": "code",
   "execution_count": 22,
   "metadata": {},
   "outputs": [],
   "source": [
    "ids_filt = np.intersect1d(ids.astype(str), ids1.astype(str))"
   ]
  },
  {
   "cell_type": "code",
   "execution_count": 25,
   "metadata": {},
   "outputs": [
    {
     "data": {
      "text/plain": [
       "Index(['127', '154', '200', '213', '227', '228', '343', '382', '392', '399',\n",
       "       ...\n",
       "       '11130958', '11130972', '11130980', '11130989', '11130991', '11131036',\n",
       "       '11131039', '11131063', '11131091', '11131099'],\n",
       "      dtype='object', length=277147)"
      ]
     },
     "execution_count": 25,
     "metadata": {},
     "output_type": "execute_result"
    }
   ],
   "source": [
    "test.index.astype(str)"
   ]
  }
 ],
 "metadata": {
  "kernelspec": {
   "display_name": "PUI2016_Python3",
   "language": "python",
   "name": "pui2016_python3"
  },
  "language_info": {
   "codemirror_mode": {
    "name": "ipython",
    "version": 3
   },
   "file_extension": ".py",
   "mimetype": "text/x-python",
   "name": "python",
   "nbconvert_exporter": "python",
   "pygments_lexer": "ipython3",
   "version": "3.5.4"
  }
 },
 "nbformat": 4,
 "nbformat_minor": 2
}
