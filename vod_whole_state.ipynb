{
 "cells": [
  {
   "cell_type": "code",
   "execution_count": 1,
   "metadata": {
    "collapsed": true
   },
   "outputs": [],
   "source": [
    "import pandas as pd\n",
    "import numpy as np\n",
    "import ephem\n",
    "import matplotlib.pyplot as plt\n",
    "import os\n",
    "\n",
    "%matplotlib inline"
   ]
  },
  {
   "cell_type": "code",
   "execution_count": 2,
   "metadata": {
    "collapsed": true
   },
   "outputs": [],
   "source": [
    "csvFiles = [f for f in os.listdir('texas_county')]\n",
    "    "
   ]
  },
  {
   "cell_type": "code",
   "execution_count": 3,
   "metadata": {},
   "outputs": [
    {
     "data": {
      "text/plain": [
       "['Callahan County.csv',\n",
       " 'Childress County.csv',\n",
       " 'Fort Bend County.csv',\n",
       " 'Brooks County.csv',\n",
       " 'Tarrant County.csv',\n",
       " 'Potter County.csv',\n",
       " 'Marion County.csv',\n",
       " 'Jack County.csv',\n",
       " 'Sabine County.csv',\n",
       " 'Howard County.csv']"
      ]
     },
     "execution_count": 3,
     "metadata": {},
     "output_type": "execute_result"
    }
   ],
   "source": [
    "csvFiles[:10]"
   ]
  },
  {
   "cell_type": "code",
   "execution_count": 4,
   "metadata": {
    "collapsed": true
   },
   "outputs": [],
   "source": [
    "def EndtimeCivilTwilight(dates):\n",
    "    \n",
    "    '''\n",
    "    End civil twilight function takes in the dates for all the stops in the \n",
    "    paper. \n",
    "    \n",
    "    '''\n",
    "    \n",
    "    # set the location Houston\n",
    "    end_twilight = []\n",
    "\n",
    "    # set the location Houston\n",
    "    obs = ephem.Observer()\n",
    "    \n",
    "    # converting the lat lon to radian which is the unit for ephem\n",
    "    obs.lat = np.deg2rad(mean_lat)\n",
    "    obs.long = np.deg2rad(mean_lon)\n",
    "\n",
    "    obs.horizon = '-6'\n",
    "\n",
    "    # all the civil twilight time for each unique time on which the stop occurred\n",
    "    for d in all_dates_str:\n",
    "        obs.date = d\n",
    "\n",
    "        #foo = ephem.Date(houston.next_setting(ephem.Sun(), use_center=True))\n",
    "        foo = obs.next_setting(ephem.Sun(), use_center=True)\n",
    "\n",
    "        end_twilight.append(ephem.localtime(foo))\n",
    "\n",
    "    return end_twilight"
   ]
  },
  {
   "cell_type": "code",
   "execution_count": 5,
   "metadata": {
    "collapsed": true
   },
   "outputs": [],
   "source": [
    "def beforeAfter(df, end_twilight):\n",
    "    \n",
    "    '''\n",
    "    This function suppose to tell you \n",
    "    It takes input of the dataframe and a list of end civil twilight time for each date\n",
    "    the output is a string for each stop determines whether stop occurs before or after \n",
    "    the sun has set. For before darkness fallen is marked BD and after darkness is marked\n",
    "    with AD\n",
    "    '''\n",
    "    \n",
    "# calculate the before dailight or after day light for each stops \n",
    "    bf_af = []\n",
    "\n",
    "    for i in range(df.shape[0]):\n",
    "\n",
    "        # get the timestamps for stops\n",
    "        ts = df.iloc[i, 27]\n",
    "\n",
    "        # check if the date will twilight \n",
    "        for d in range(len(end_twilight)):\n",
    "            \n",
    "            # find for each date\n",
    "            if (ts.date() == end_twilight[d].date()):\n",
    "        \n",
    "                # compare the timestamp to the end civil twilight time and mark with in\n",
    "                if (ts < end_twilight[d]):\n",
    "                    bf_af.append('BD')\n",
    "\n",
    "                else:      \n",
    "                    bf_af.append('AD')\n",
    "                    \n",
    "    return bf_af\n"
   ]
  },
  {
   "cell_type": "code",
   "execution_count": 6,
   "metadata": {
    "collapsed": true
   },
   "outputs": [],
   "source": [
    "def ratioFactor(df):\n",
    "\n",
    "    wb = df[df.driver_race == 'White'].groupby('light_or_dark').count().iloc[0, 0]\n",
    "    wa = df[df.driver_race == 'White'].groupby('light_or_dark').count().iloc[1, 0]\n",
    "    \n",
    "    bb = df[df.driver_race == 'Black'].groupby('light_or_dark').count().iloc[0, 0]\n",
    "    ba = df[df.driver_race == 'Black'].groupby('light_or_dark').count().iloc[1, 0]\n",
    "    \n",
    "    hb = df[df.driver_race == 'Hispanic'].groupby('light_or_dark').count().iloc[0, 0]\n",
    "    ha = df[df.driver_race == 'Hispanic'].groupby('light_or_dark').count().iloc[1, 0]\n",
    "    \n",
    "    # black\n",
    "    br = ((bb / (wb + bb + hb)), (ba / (wa + ba + ha)))\n",
    "    wr = ((wb / (wb + bb + hb)), (wa / (wa + ba + ha)))\n",
    "    hr = ((hb / (wb + bb + hb)), (ha / (wa + ba + ha)))\n",
    "    \n",
    "    return br, wr, hr"
   ]
  },
  {
   "cell_type": "code",
   "execution_count": 13,
   "metadata": {},
   "outputs": [
    {
     "name": "stderr",
     "output_type": "stream",
     "text": [
      "/Users/tedu/anaconda3/lib/python3.6/site-packages/IPython/core/interactiveshell.py:2698: DtypeWarning: Columns (17,20,25) have mixed types. Specify dtype option on import or set low_memory=False.\n",
      "  interactivity=interactivity, compiler=compiler, result=result)\n",
      "/Users/tedu/anaconda3/lib/python3.6/site-packages/IPython/core/interactiveshell.py:2698: DtypeWarning: Columns (25) have mixed types. Specify dtype option on import or set low_memory=False.\n",
      "  interactivity=interactivity, compiler=compiler, result=result)\n"
     ]
    }
   ],
   "source": [
    "# iterating through the file by their county files\n",
    "l = []\n",
    "\n",
    "for f in csvFiles[:10]:\n",
    "    \n",
    "    df = pd.read_csv('texas_county' + '/' + f)\n",
    "    \n",
    "    #df = df[df['lat'].notnull() & df['lon'].notnull()]\n",
    "    \n",
    "    # calculating the average lat and lon\n",
    "    mean_lat = df.lat.mean()\n",
    "    mean_lon = df.lon.mean()\n",
    "    \n",
    "    # Find out the unqie dates for the \n",
    "    all_dates_str = df['stop_date'].unique()  + [' 00:00:00'] * len(df['stop_date'].unique())\n",
    "    \n",
    "    #create datetime objects for all the stop time\n",
    "    df['stop_date_time'] = pd.to_datetime(df['stop_date'] + ' ' + df['stop_time'])\n",
    "    \n",
    "    # calculating the end of civil twilight for each date available \n",
    "    end_twilight = EndtimeCivilTwilight(all_dates_str)\n",
    "    \n",
    "    # Produce a \n",
    "    bf_af = beforeAfter(df, end_twilight)\n",
    "    \n",
    "    # attach the before or after \n",
    "    df['light_or_dark'] = pd.Series(bf_af)\n",
    "    \n",
    "    wr, br, hr = ratioFactor(df)\n",
    "    \n",
    "    l.append((wr, br, hr))"
   ]
  },
  {
   "cell_type": "code",
   "execution_count": 15,
   "metadata": {},
   "outputs": [
    {
     "data": {
      "text/plain": [
       "[((0.1053144807411019, 0.10849924258818437),\n",
       "  (0.73362587355761422, 0.7191084180913222),\n",
       "  (0.16105964570128392, 0.17239233932049339)),\n",
       " ((0.071593533487297925, 0.067099020894317143),\n",
       "  (0.77598152424942268, 0.76849702230745942),\n",
       "  (0.15242494226327943, 0.16440395679822348)),\n",
       " ((0.24005230290596749, 0.23450252798844348),\n",
       "  (0.46351195978086884, 0.47062116287468403),\n",
       "  (0.29643573731316364, 0.29487630913687252)),\n",
       " ((0.017570365396452355, 0.017184542685601836),\n",
       "  (0.24385876559789604, 0.25217783682831751),\n",
       "  (0.73857086900565161, 0.73063762048608061)),\n",
       " ((0.15562868504044974, 0.15645889037433156),\n",
       "  (0.65953654188948307, 0.66972342914438499),\n",
       "  (0.18483477307006718, 0.17381768048128343)),\n",
       " ((0.069281045751633991, 0.068406921914130364),\n",
       "  (0.72438940488476089, 0.7188705638156262),\n",
       "  (0.20632954936360509, 0.21272251427024344)),\n",
       " ((0.18826858200021765, 0.18684659090909092),\n",
       "  (0.74589182718467728, 0.75207386363636364),\n",
       "  (0.065839590815105015, 0.061079545454545456)),\n",
       " ((0.037681753020684008, 0.034706331045003813),\n",
       "  (0.86319885316403855, 0.85672514619883045),\n",
       "  (0.099119393815277498, 0.10856852275616578)),\n",
       " ((0.11335841956726246, 0.12573099415204678),\n",
       "  (0.85747883349012233, 0.84294996751137097),\n",
       "  (0.029162746942615239, 0.031319038336582193)),\n",
       " ((0.060771677950893221, 0.063465054396032075),\n",
       "  (0.7039725915653805, 0.6915627319298373),\n",
       "  (0.23525573048372625, 0.24497221367413066))]"
      ]
     },
     "execution_count": 15,
     "metadata": {},
     "output_type": "execute_result"
    }
   ],
   "source": [
    "l"
   ]
  },
  {
   "cell_type": "code",
   "execution_count": null,
   "metadata": {
    "collapsed": true
   },
   "outputs": [],
   "source": []
  }
 ],
 "metadata": {
  "kernelspec": {
   "display_name": "Python 3",
   "language": "python",
   "name": "python3"
  },
  "language_info": {
   "codemirror_mode": {
    "name": "ipython",
    "version": 3
   },
   "file_extension": ".py",
   "mimetype": "text/x-python",
   "name": "python",
   "nbconvert_exporter": "python",
   "pygments_lexer": "ipython3",
   "version": "3.6.3"
  }
 },
 "nbformat": 4,
 "nbformat_minor": 2
}
